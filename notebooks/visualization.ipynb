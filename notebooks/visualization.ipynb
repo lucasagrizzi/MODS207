{
 "cells": [
  {
   "cell_type": "code",
   "execution_count": 42,
   "id": "268ee6d8",
   "metadata": {},
   "outputs": [],
   "source": [
    "import pandas as pd"
   ]
  },
  {
   "cell_type": "code",
   "execution_count": 43,
   "id": "498fec7b",
   "metadata": {},
   "outputs": [],
   "source": [
    "df_cities_static = pd.read_csv('../data/proc_data/cities_static.csv.zip', index_col=0)\n",
    "df_cities_final = pd.read_csv('../data/proc_data/cities_temp.csv.zip', parse_dates=[2], index_col=0)\n",
    "df_covid = pd.read_csv('../data/proc_data/covid.csv.zip', parse_dates=[1], index_col=0)\n"
   ]
  },
  {
   "cell_type": "code",
   "execution_count": null,
   "id": "b928e7c3",
   "metadata": {},
   "outputs": [],
   "source": []
  },
  {
   "cell_type": "code",
   "execution_count": null,
   "id": "381ca5d6",
   "metadata": {},
   "outputs": [],
   "source": []
  },
  {
   "cell_type": "code",
   "execution_count": null,
   "id": "a26ed707",
   "metadata": {},
   "outputs": [],
   "source": []
  }
 ],
 "metadata": {
  "kernelspec": {
   "display_name": "study",
   "language": "python",
   "name": "study"
  },
  "language_info": {
   "codemirror_mode": {
    "name": "ipython",
    "version": 3
   },
   "file_extension": ".py",
   "mimetype": "text/x-python",
   "name": "python",
   "nbconvert_exporter": "python",
   "pygments_lexer": "ipython3",
   "version": "3.7.0"
  }
 },
 "nbformat": 4,
 "nbformat_minor": 5
}
