{
 "cells": [
  {
   "cell_type": "markdown",
   "id": "95e8b815",
   "metadata": {},
   "source": [
    "### Data Analysis - MODS207\n",
    "## Authors: José Lucas Barretto and Lucas Miguel Celinga Agrizzi\n",
    "\n",
    "The goal of this notebook is to explore the collected data, visualize it to acquire insights, and run regression models."
   ]
  },
  {
   "cell_type": "markdown",
   "id": "dc7f0be1",
   "metadata": {},
   "source": [
    "### Data Preparation"
   ]
  },
  {
   "cell_type": "code",
   "execution_count": 1,
   "id": "7e55d838",
   "metadata": {},
   "outputs": [],
   "source": [
    "import pandas as pd\n",
    "import matplotlib.pyplot as plt\n",
    "from linearmodels import PanelOLS\n",
    "from linearmodels import RandomEffects\n",
    "import statsmodels.api as sm\n",
    "import seaborn as sns\n",
    "import numpy as np\n",
    "import warnings\n",
    "\n",
    "warnings.simplefilter(action='ignore', category=FutureWarning)"
   ]
  },
  {
   "cell_type": "code",
   "execution_count": 2,
   "id": "79efa5c4",
   "metadata": {},
   "outputs": [],
   "source": [
    "# read processed data\n",
    "df_cities_static = pd.read_csv('../data/proc_data/cities_static.csv.zip', index_col=0)\n",
    "df_cities_temp = pd.read_csv('../data/proc_data/cities_temp.csv.zip', parse_dates=[3], index_col=0)"
   ]
  },
  {
   "cell_type": "code",
   "execution_count": 3,
   "id": "5260bb38",
   "metadata": {},
   "outputs": [],
   "source": [
    "# merge important data into one dataframe\n",
    "df_cities_static['gdp_pc'] = df_cities_static['gdp'].div(df_cities_static['population'])\n",
    "df_cities_static['density'] = df_cities_static['population'].div(df_cities_static['area'])\n",
    "\n",
    "df_cities_temp['city_code'] = df_cities_temp['city_code'].astype(int)\n",
    "\n",
    "static_cols = [\n",
    "    'city_code', \n",
    "    'population',\n",
    "    'gdp_pc',\n",
    "    'density',\n",
    "    'urbanization',\n",
    "    'white_collar',\n",
    "    'blue_collar',\n",
    "    'serv_sanitation',\n",
    "    'serv_water',\n",
    "    'serv_sewage',\n",
    "    'serv_garbage',\n",
    "    'serv_rainwater',\n",
    "]\n",
    "\n",
    "df = pd.merge(df_cities_temp, df_cities_static[static_cols], on='city_code', how='left')"
   ]
  },
  {
   "cell_type": "code",
   "execution_count": 4,
   "id": "444f024c",
   "metadata": {},
   "outputs": [],
   "source": [
    "# prepare withdrawal data to account for the delayed effect of covid contamination\n",
    "days_to_confirmation_avg = 21\n",
    "days_to_confirmation_std = 7\n",
    "\n",
    "# shift withdrawal dates\n",
    "shifted_withdrawal = pd.DataFrame()\n",
    "shifted_withdrawal['withdrawal_lagged'] = df['withdrawal']\n",
    "shifted_withdrawal['city_code'] = df['city_code']\n",
    "dates = df['date']\n",
    "shifted_withdrawal['date'] = dates + pd.Timedelta(days=days_to_confirmation_avg)\n",
    "df = pd.merge(df, shifted_withdrawal, on=['city_code', 'date'], how='left')\n",
    "\n",
    "#apply gaussian smoothing\n",
    "df['withdrawal_lagged_smooth'] = df.groupby('city_code')['withdrawal_lagged'].rolling(\n",
    "    60,\n",
    "    min_periods=1,\n",
    "    win_type='gaussian',\n",
    "    center=True\n",
    ").mean(std=days_to_confirmation_std).values"
   ]
  },
  {
   "cell_type": "code",
   "execution_count": 5,
   "id": "3a137907",
   "metadata": {},
   "outputs": [],
   "source": [
    "# smooth covid variables\n",
    "df['confirmed_day_smooth'] = df.groupby('city_code')['confirmed_day'].rolling(window=7).mean().values\n",
    "df['deaths_day_smooth'] = df.groupby('city_code')['deaths_day'].rolling(window=7).mean().values"
   ]
  },
  {
   "cell_type": "code",
   "execution_count": 6,
   "id": "23643717",
   "metadata": {},
   "outputs": [],
   "source": [
    "# add state dummy variable\n",
    "df['is_SP'] = df['state'] == 'SP'"
   ]
  },
  {
   "cell_type": "markdown",
   "id": "dfee7a9f",
   "metadata": {},
   "source": [
    "#### Filtering"
   ]
  },
  {
   "cell_type": "markdown",
   "id": "fa0b3062",
   "metadata": {},
   "source": [
    "For the following analyses, we will only consider cities with more than 100.000 population, since they convey the cities that were mostly affected by the Covid-19 pandemic. Additionally, we will only consider data entries that registered more than one case of Covid-19 per day and with a social withdrawal index higher than 30%."
   ]
  },
  {
   "cell_type": "code",
   "execution_count": 7,
   "id": "13a98780",
   "metadata": {},
   "outputs": [],
   "source": [
    "# apply filtering conditions\n",
    "mask = (df['population'] > 100000) & (df['confirmed_day'] > 0) & (df['withdrawal'] > 0.4)\n",
    "df = df.loc[mask, :]\n",
    "\n",
    "# drop NaN values from dataset\n",
    "df.dropna(inplace=True)"
   ]
  },
  {
   "cell_type": "markdown",
   "id": "b943d813",
   "metadata": {},
   "source": [
    "#### Lockdown Measures"
   ]
  },
  {
   "cell_type": "markdown",
   "id": "4b5f12db",
   "metadata": {},
   "source": [
    "We collect some data about when happened strict measures in some cities in Brazil. For the ones that have some strict measure, we mark **1** and for when it was normal days **0**. For the cities we do not have much information, we put a **NaN**."
   ]
  },
  {
   "cell_type": "code",
   "execution_count": 8,
   "id": "2a3a7b8c",
   "metadata": {},
   "outputs": [],
   "source": [
    "# Push the lockdown cities dataset\n",
    "lockdown = pd.read_csv('./../data/raw_data/lockdown.csv')\n",
    "lockdown['city_name'] = lockdown['city_name'].str.upper()\n",
    "lockdown['begin_lockdown'] = pd.to_datetime(lockdown['begin_lockdown'])\n",
    "lockdown['end_lockdown'] = pd.to_datetime(lockdown['end_lockdown'])\n",
    "\n",
    "lockdown_cities = set(lockdown['city_name'].values)\n",
    "cidades_total = set(df['city_name'].unique())\n",
    "intersect_lockdown_cities = list(lockdown_cities.intersection(cidades_total))\n",
    "\n",
    "df['strict_lockdown'] = df['cable_tv_accesses']*0\n",
    "\n",
    "# for every city with lockdown, set 1 if it was a strict measure and a NaN \n",
    "# if don't have information about or did not do at all\n",
    "\n",
    "for i in range(len(df)):\n",
    "    \n",
    "    if (len(lockdown[(lockdown['city_name']==df['city_name'].iloc[i]) & \n",
    "             (lockdown['begin_lockdown']<=df['date'].iloc[i]) &\n",
    "             (lockdown['end_lockdown']>=df['date'].iloc[i])]) >0  ):\n",
    "        df.iloc[i, df.columns.get_loc('strict_lockdown')] = 1\n",
    "\n",
    "mask = df['city_name'].isin(intersect_lockdown_cities)\n",
    "df['strict_lockdown'].where(mask, other=np.nan, inplace=True)"
   ]
  },
  {
   "cell_type": "markdown",
   "id": "00f1d9b6",
   "metadata": {},
   "source": [
    "### Corrections to Two-Stage Panel OLS"
   ]
  },
  {
   "cell_type": "markdown",
   "id": "32c21753",
   "metadata": {},
   "source": [
    "##### Verifying correlations"
   ]
  },
  {
   "cell_type": "code",
   "execution_count": 9,
   "id": "cd4dd86d",
   "metadata": {},
   "outputs": [],
   "source": [
    "# define types of columns\n",
    "index_cols = [\n",
    "    'city_code',\n",
    "    'date'\n",
    "]\n",
    "control_cols = [\n",
    "    'gdp_pc',\n",
    "    'density',\n",
    "    'urbanization',\n",
    "    'blue_collar',\n",
    "    'is_SP'\n",
    "]\n",
    "telecom_cols = [\n",
    "    'fixed_bandwidth_accesses',\n",
    "    'cable_tv_accesses',\n",
    "    '4G_mobile_accesses',\n",
    "    '3G_mobile_accesses',\n",
    "    '2G_mobile_accesses',\n",
    "    'fixed_telephony_accesses'\n",
    "]"
   ]
  },
  {
   "cell_type": "code",
   "execution_count": 10,
   "id": "0e07a030",
   "metadata": {},
   "outputs": [
    {
     "name": "stderr",
     "output_type": "stream",
     "text": [
      "/home/josebarretto/anaconda3/envs/study/lib/python3.7/site-packages/pandas/core/frame.py:3065: SettingWithCopyWarning: \n",
      "A value is trying to be set on a copy of a slice from a DataFrame.\n",
      "Try using .loc[row_indexer,col_indexer] = value instead\n",
      "\n",
      "See the caveats in the documentation: https://pandas.pydata.org/pandas-docs/stable/user_guide/indexing.html#returning-a-view-versus-a-copy\n",
      "  self[k1] = value[k2]\n"
     ]
    },
    {
     "data": {
      "image/png": "[encoded data removed]",
      "text/plain": [
       "<Figure size 576x432 with 2 Axes>"
      ]
     },
     "metadata": {
      "needs_background": "light"
     },
     "output_type": "display_data"
    }
   ],
   "source": [
    "telecom_corr = df[index_cols + telecom_cols]\n",
    "telecom_corr[telecom_cols] = telecom_corr[telecom_cols].div(df['population'], axis=0)\n",
    "telecom_corr = telecom_corr.groupby(['city_code']).corr().mean(level=1)\n",
    "\n",
    "# Generate a mask for the upper triangle\n",
    "mask = np.triu(np.ones_like(telecom_corr, dtype=bool))\n",
    "\n",
    "# Set up the matplotlib figure\n",
    "f, ax = plt.subplots(figsize=(8, 6))\n",
    "\n",
    "# Generate a custom diverging colormap\n",
    "cmap = sns.diverging_palette(230, 20, as_cmap=True)\n",
    "\n",
    "# Draw the heatmap with the mask and correct aspect ratio\n",
    "sns.heatmap(telecom_corr, mask=mask, cmap=cmap, vmax=.3, center=0,\n",
    "            square=True, linewidths=.5, cbar_kws={\"shrink\": .5})\n",
    "\n",
    "plt.title('Average Correlation Between Telecom Vars')\n",
    "plt.show()"
   ]
  },
  {
   "cell_type": "code",
   "execution_count": 11,
   "id": "943e9d1e",
   "metadata": {},
   "outputs": [
    {
     "data": {
      "image/png": "[encoded data removed]",
      "text/plain": [
       "<Figure size 576x432 with 2 Axes>"
      ]
     },
     "metadata": {
      "needs_background": "light"
     },
     "output_type": "display_data"
    }
   ],
   "source": [
    "demographic_cols = [\n",
    "    'gdp_pc',\n",
    "    'density',\n",
    "    'urbanization',\n",
    "    'blue_collar',\n",
    "]\n",
    "\n",
    "demographic_corr = df_cities_static[demographic_cols].corr()\n",
    "\n",
    "# Generate a mask for the upper triangle\n",
    "mask = np.triu(np.ones_like(demographic_corr, dtype=bool))\n",
    "\n",
    "# Set up the matplotlib figure\n",
    "f, ax = plt.subplots(figsize=(8, 6))\n",
    "\n",
    "# Generate a custom diverging colormap\n",
    "cmap = sns.diverging_palette(230, 20, as_cmap=True)\n",
    "\n",
    "# Draw the heatmap with the mask and correct aspect ratio\n",
    "sns.heatmap(demographic_corr, mask=mask, cmap=cmap, vmax=.3, center=0,\n",
    "            square=True, linewidths=.5, cbar_kws={\"shrink\": .5})\n",
    "\n",
    "plt.title('Correlation Between Demographic Vars')\n",
    "plt.show()"
   ]
  },
  {
   "cell_type": "markdown",
   "id": "77f11a93",
   "metadata": {},
   "source": [
    "##### Corrected two-stage OLS model"
   ]
  },
  {
   "cell_type": "code",
   "execution_count": 46,
   "id": "3c053205",
   "metadata": {
    "scrolled": false
   },
   "outputs": [
    {
     "name": "stdout",
     "output_type": "stream",
     "text": [
      "First Stage Model:\n",
      "                             PanelOLS Estimation Summary                              \n",
      "======================================================================================\n",
      "Dep. Variable:     withdrawal_lagged_smooth   R-squared:                        0.1594\n",
      "Estimator:                         PanelOLS   R-squared (Between):              0.3831\n",
      "No. Observations:                     12161   R-squared (Within):              -0.0004\n",
      "Date:                      Sun, Jun 20 2021   R-squared (Overall):              0.1025\n",
      "Time:                              00:39:54   Log-likelihood                 2.699e+04\n",
      "Cov. Estimator:                   Clustered                                           \n",
      "                                              F-statistic:                      186.98\n",
      "Entities:                                97   P-value                           0.0000\n",
      "Avg Obs:                             125.37   Distribution:                F(12,11830)\n",
      "Min Obs:                             35.000                                           \n",
      "Max Obs:                             267.00   F-statistic (robust):             178.25\n",
      "                                              P-value                           0.0000\n",
      "Time periods:                           319   Distribution:                F(12,11830)\n",
      "Avg Obs:                             38.122                                           \n",
      "Min Obs:                             1.0000                                           \n",
      "Max Obs:                             97.000                                           \n",
      "                                                                                      \n",
      "                                    Parameter Estimates                                     \n",
      "============================================================================================\n",
      "                          Parameter  Std. Err.     T-stat    P-value    Lower CI    Upper CI\n",
      "--------------------------------------------------------------------------------------------\n",
      "const                        0.3474     0.0078     44.279     0.0000      0.3320      0.3628\n",
      "gdp_pc                   -9.928e-05  6.234e-06    -15.925     0.0000     -0.0001  -8.706e-05\n",
      "density                   2.054e-07  7.135e-08     2.8794     0.0040   6.558e-08   3.453e-07\n",
      "urbanization                 0.0010  8.515e-05     12.272     0.0000      0.0009      0.0012\n",
      "blue_collar                 -0.0003      8e-05    -3.2139     0.0013     -0.0004     -0.0001\n",
      "is_SP                        0.0284     0.0009     31.581     0.0000      0.0266      0.0302\n",
      "fixed_bandwidth_accesses    -0.0334     0.0351    -0.9515     0.3414     -0.1022      0.0354\n",
      "cable_tv_accesses            0.1389     0.0539     2.5776     0.0100      0.0333      0.2445\n",
      "4G_mobile_accesses           0.0087     0.0051     1.7184     0.0858     -0.0012      0.0187\n",
      "3G_mobile_accesses          -0.0134     0.0062    -2.1763     0.0296     -0.0255     -0.0013\n",
      "2G_mobile_accesses           0.0025     0.0027     0.9412     0.3466     -0.0027      0.0078\n",
      "fixed_telephony_accesses    -0.0031     0.0143    -0.2203     0.8256     -0.0311      0.0248\n",
      "log(population)             -0.0012     0.0003    -3.8431     0.0001     -0.0018     -0.0006\n",
      "============================================================================================\n",
      "\n",
      "F-test for Poolability: 75.862\n",
      "P-value: 0.0000\n",
      "Distribution: F(318,11830)\n",
      "\n",
      "Included effects: Time\n",
      "\n",
      "\n",
      "\n",
      "Second Stage Model:\n",
      "                          PanelOLS Estimation Summary                           \n",
      "================================================================================\n",
      "Dep. Variable:             deaths day   R-squared:                        0.1250\n",
      "Estimator:                   PanelOLS   R-squared (Between):              0.4092\n",
      "No. Observations:               12161   R-squared (Within):               0.0018\n",
      "Date:                Sun, Jun 20 2021   R-squared (Overall):              0.1048\n",
      "Time:                        00:39:54   Log-likelihood                 1.553e+05\n",
      "Cov. Estimator:             Clustered                                           \n",
      "                                        F-statistic:                      241.59\n",
      "Entities:                          97   P-value                           0.0000\n",
      "Avg Obs:                       125.37   Distribution:                 F(7,11835)\n",
      "Min Obs:                       35.000                                           \n",
      "Max Obs:                       267.00   F-statistic (robust):             343.29\n",
      "                                        P-value                           0.0000\n",
      "Time periods:                     319   Distribution:                 F(7,11835)\n",
      "Avg Obs:                       38.122                                           \n",
      "Min Obs:                       1.0000                                           \n",
      "Max Obs:                       97.000                                           \n",
      "                                                                                \n",
      "                                Parameter Estimates                                 \n",
      "====================================================================================\n",
      "                  Parameter  Std. Err.     T-stat    P-value    Lower CI    Upper CI\n",
      "------------------------------------------------------------------------------------\n",
      "const             8.486e-06  1.663e-06     5.1041     0.0000   5.227e-06   1.174e-05\n",
      "gdp_pc           -9.765e-10  5.274e-10    -1.8516     0.0641   -2.01e-09   5.724e-11\n",
      "density           2.201e-11   2.12e-12     10.380     0.0000   1.785e-11   2.617e-11\n",
      "urbanization      3.377e-08  5.311e-09     6.3591     0.0000   2.336e-08   4.418e-08\n",
      "blue_collar      -2.582e-08   1.54e-09    -16.764     0.0000  -2.883e-08   -2.28e-08\n",
      "is_SP             1.874e-07  1.336e-07     1.4032     0.1606   -7.44e-08   4.492e-07\n",
      "log (population) -8.541e-07  2.218e-08    -38.502     0.0000  -8.975e-07  -8.106e-07\n",
      "fitted_values    -1.018e-05  4.644e-06    -2.1913     0.0284  -1.928e-05  -1.073e-06\n",
      "====================================================================================\n",
      "\n",
      "F-test for Poolability: 8.9440\n",
      "P-value: 0.0000\n",
      "Distribution: F(318,11835)\n",
      "\n",
      "Included effects: Time\n"
     ]
    }
   ],
   "source": [
    "from linearmodels import PanelOLS\n",
    "from linearmodels import RandomEffects\n",
    "from linearmodels import BetweenOLS\n",
    "\n",
    "# define types of columns\n",
    "index_cols = [\n",
    "    'city_code',\n",
    "    'date'\n",
    "]\n",
    "control_cols = [\n",
    "    'gdp_pc',\n",
    "    'density',\n",
    "    'urbanization',\n",
    "    'blue_collar',\n",
    "    'is_SP',\n",
    "]\n",
    "telecom_cols = [\n",
    "    'fixed_bandwidth_accesses',\n",
    "    'cable_tv_accesses',\n",
    "    '4G_mobile_accesses',\n",
    "    '3G_mobile_accesses',\n",
    "    '2G_mobile_accesses',\n",
    "    'fixed_telephony_accesses'\n",
    "]\n",
    "\n",
    "### stage 1\n",
    "# define X\n",
    "X1 = sm.tools.tools.add_constant(df[index_cols + control_cols])\n",
    "X1[telecom_cols] = (df[telecom_cols].div(df['population'], axis=0)).multiply(df['strict_lockdown'].fillna(0), axis='index')\n",
    "\n",
    "X1['blue_collar'] = X1['blue_collar'].multiply(df['strict_lockdown'].fillna(0), axis='index')\n",
    "X1['log(population)'] = np.log(df['population'])\n",
    "\n",
    "# X1['monday'] = pd.DatetimeIndex(df['date']).weekday == 0\n",
    "# X1['tuesday'] = pd.DatetimeIndex(df['date']).weekday == 1\n",
    "# X1['wednesday'] = pd.DatetimeIndex(df['date']).weekday == 2\n",
    "# X1['thursday'] = pd.DatetimeIndex(df['date']).weekday == 3\n",
    "# X1['friday'] = pd.DatetimeIndex(df['date']).weekday == 4\n",
    "# X1['saturday'] = pd.DatetimeIndex(df['date']).weekday == 5\n",
    "\n",
    "# define y\n",
    "y1 = df.loc[:, ['city_code', 'date', 'withdrawal_lagged_smooth']]\n",
    "\n",
    "# apply multi-index to dfs\n",
    "X1.set_index(['city_code', 'date'], inplace=True)\n",
    "y1.set_index(['city_code', 'date'], inplace=True)\n",
    "\n",
    "# run model\n",
    "stage1 = PanelOLS(y1, X1, entity_effects=False, time_effects=True)\n",
    "res1 = stage1.fit(cov_type='clustered')\n",
    "print('First Stage Model:')\n",
    "print(res1)\n",
    "\n",
    "### stage 2\n",
    "# define X\n",
    "X2 = df.loc[:, ['city_code', 'date'] + control_cols]\n",
    "X2['log (population)'] = np.log10(df['population'])\n",
    "\n",
    "X2 = sm.tools.tools.add_constant(X2)\n",
    "X2 = pd.merge(X2, res1.predict().reset_index(), on=['city_code', 'date'], how='right')\n",
    "\n",
    "# define y\n",
    "y2 = df.loc[:, index_cols]\n",
    "y2['deaths day'] = np.log10((df['deaths_day_smooth']+1)).div(df['population'])\n",
    "#y2['deaths day'] = df['deaths_day_smooth'].div(df['population'])\n",
    "\n",
    "# apply multi-index to dfs\n",
    "X2.set_index(['city_code', 'date'], inplace=True)\n",
    "y2.set_index(['city_code', 'date'], inplace=True)\n",
    "\n",
    "# run model\n",
    "stage2 = PanelOLS(y2, X2, entity_effects=False, time_effects=True)\n",
    "res2 = stage2.fit(cov_type='clustered')\n",
    "\n",
    "print('\\n\\n\\nSecond Stage Model:')\n",
    "print(res2)"
   ]
  }
 ],
 "metadata": {
  "kernelspec": {
   "display_name": "Python [conda env:study] *",
   "language": "python",
   "name": "conda-env-study-py"
  },
  "language_info": {
   "codemirror_mode": {
    "name": "ipython",
    "version": 3
   },
   "file_extension": ".py",
   "mimetype": "text/x-python",
   "name": "python",
   "nbconvert_exporter": "python",
   "pygments_lexer": "ipython3",
   "version": "3.7.9"
  }
 },
 "nbformat": 4,
 "nbformat_minor": 5
}
