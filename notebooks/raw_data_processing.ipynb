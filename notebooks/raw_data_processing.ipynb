{
 "cells": [
  {
   "cell_type": "markdown",
   "id": "d292c6d0",
   "metadata": {},
   "source": [
    "# Raw Data Processing\n",
    "\n",
    "This script processes raw data downloaded from original sources. These raw datasets are not available on Github due to their size."
   ]
  },
  {
   "cell_type": "code",
   "execution_count": 1,
   "id": "9d74398b",
   "metadata": {},
   "outputs": [],
   "source": [
    "import pandas as pd\n",
    "import numpy as np"
   ]
  },
  {
   "cell_type": "markdown",
   "id": "307c1b7d",
   "metadata": {},
   "source": [
    "### Fixed Bandwidth"
   ]
  },
  {
   "cell_type": "code",
   "execution_count": 16,
   "id": "53ab8992",
   "metadata": {},
   "outputs": [],
   "source": [
    "data_19_20 = pd.read_csv(\n",
    "    '../data/raw_data/large_files/acessos_banda_larga_fixa/Acessos_Banda_Larga_Fixa_2019-2020.csv',\n",
    "    delimiter=';'\n",
    ")\n",
    "\n",
    "data_21 = pd.read_csv(\n",
    "    '../data/raw_data/large_files/acessos_banda_larga_fixa/Acessos_Banda_Larga_Fixa_2021.csv',\n",
    "    delimiter=';'\n",
    ")\n",
    "\n",
    "df = data_19_20.append(data_21)\n",
    "\n",
    "df_grouped = df[['Ano', 'Mês', 'Município', 'UF',\n",
    "                 'Código IBGE Município', 'Acessos']].groupby(['Município', 'UF', 'Código IBGE Município',\n",
    "                                                               'Ano', 'Mês']).sum()\n",
    "\n",
    "df_grouped.reset_index(inplace=True)\n",
    "df_grouped.rename(\n",
    "    columns={\n",
    "        'Município': 'city',\n",
    "        'UF': 'state',\n",
    "        'Código IBGE Município': 'city_code',\n",
    "        'Ano': 'year',\n",
    "        'Mês': 'month',\n",
    "        'Acessos': 'accesses'},\n",
    "    inplace=True\n",
    ")\n",
    "\n",
    "df_grouped = df_grouped[df_grouped['year'] >= 2020]\n",
    "df_grouped['date'] = pd.to_datetime(df_grouped['year']*100 + df_grouped['month'], format='%Y%m')\n",
    "df_grouped.drop(['year', 'month'], axis=1, inplace=True)\n",
    "df_grouped.reset_index(inplace=True, drop=True)\n",
    "df_grouped[['city', 'state', 'city_code', 'date', 'accesses']].to_csv('../data/raw_data/fixed_bandwidth.csv')"
   ]
  },
  {
   "cell_type": "markdown",
   "id": "3a89b076",
   "metadata": {},
   "source": [
    "### Fixed Telephony"
   ]
  },
  {
   "cell_type": "code",
   "execution_count": 9,
   "id": "6d3b628c",
   "metadata": {},
   "outputs": [],
   "source": [
    "data_aut = pd.read_csv(\n",
    "    '../data/raw_data/large_files/acessos_telefonia_fixa/Acessos_Telefonia_Fixa_Autorizadas.csv',\n",
    "    delimiter=';',\n",
    "    low_memory=False\n",
    ")\n",
    "\n",
    "data_con = pd.read_csv(\n",
    "    '../data/raw_data/large_files/acessos_telefonia_fixa/Acessos_Telefonia_Fixa_Concessionarias.csv',\n",
    "    delimiter=';',\n",
    "    low_memory=False\n",
    ")\n",
    "\n",
    "df = data_aut.append(data_con)\n",
    "\n",
    "df_grouped = df[['Ano', 'Mês', 'Município', 'UF',\n",
    "                 'Código IBGE Município', 'Acessos']].groupby(['Município', 'UF', 'Código IBGE Município',\n",
    "                                                               'Ano', 'Mês']).sum()\n",
    "df_grouped.reset_index(inplace=True)\n",
    "df_grouped.rename(\n",
    "    columns={\n",
    "        'Município': 'city',\n",
    "        'UF': 'state',\n",
    "        'Código IBGE Município': 'city_code',\n",
    "        'Ano': 'year',\n",
    "        'Mês': 'month',\n",
    "        'Acessos': 'accesses'},\n",
    "    inplace=True\n",
    ")\n",
    "\n",
    "df_grouped = df_grouped[df_grouped['year'] >= 2020]\n",
    "df_grouped['date'] = pd.to_datetime(df_grouped['year']*100 + df_grouped['month'], format='%Y%m')\n",
    "df_grouped.drop(['year', 'month'], axis=1, inplace=True)\n",
    "df_grouped.reset_index(inplace=True, drop=True)\n",
    "df_grouped[['city', 'state', 'city_code', 'date', 'accesses']].to_csv('../data/raw_data/fixed_telephony.csv')"
   ]
  },
  {
   "cell_type": "markdown",
   "id": "3fdec4d6",
   "metadata": {},
   "source": [
    "### Mobile Telephony"
   ]
  },
  {
   "cell_type": "code",
   "execution_count": 2,
   "id": "3a821a81",
   "metadata": {},
   "outputs": [
    {
     "name": "stdout",
     "output_type": "stream",
     "text": [
      "finished acessos_telefonia_movel/Acessos_Telefonia_Movel_202001-202006.csv\n",
      "finished acessos_telefonia_movel/Acessos_Telefonia_Movel_202007-202012.csv\n",
      "finished acessos_telefonia_movel/Acessos_Telefonia_Movel_2021.csv\n"
     ]
    }
   ],
   "source": [
    "paths = [\n",
    "    '../data/raw_data/large_files/acessos_telefonia_movel/Acessos_Telefonia_Movel_202001-202006.csv',\n",
    "    '../data/raw_data/large_files/acessos_telefonia_movel/Acessos_Telefonia_Movel_202007-202012.csv',\n",
    "    '../data/raw_data/large_files/acessos_telefonia_movel/Acessos_Telefonia_Movel_2021.csv'\n",
    "]\n",
    "\n",
    "df = pd.DataFrame()\n",
    "\n",
    "for path in paths:\n",
    "    data = pd.read_csv(path, delimiter=';')\n",
    "    df_grouped = data[['Ano', 'Mês', 'Município', 'UF', 'Código IBGE Município', 'Tipo de Produto', \n",
    "                       'Tecnologia Geração', 'Acessos']].groupby(['Município', 'UF', 'Código IBGE Município', \n",
    "                                                                  'Ano', 'Mês', 'Tipo de Produto', \n",
    "                                                                  'Tecnologia Geração']).sum()\n",
    "    del data\n",
    "    df_grouped.reset_index(inplace=True)\n",
    "    \n",
    "    df_grouped.rename(\n",
    "        columns={\n",
    "            'Município': 'city',\n",
    "            'UF': 'state',\n",
    "            'Código IBGE Município': 'city_code',\n",
    "            'Ano': 'year',\n",
    "            'Mês': 'month',\n",
    "            'Tipo de Produto': 'product_type',\n",
    "            'Tecnologia Geração': 'technology',\n",
    "            'Acessos': 'accesses'},\n",
    "        inplace=True\n",
    "    )\n",
    "\n",
    "    df_grouped['product_type'].replace(\n",
    "        {\n",
    "            'DADOS': 'data',\n",
    "            'VOZ': 'voice',\n",
    "            'VOZ+DADOS': 'voice+data',\n",
    "            'M2M_ESPECIAL': 'other',\n",
    "            'M2M_PADRAO': 'other',\n",
    "            'OCIOSO': 'other',\n",
    "            'OCIOSO_M2M_ESPECIAL': 'other',\n",
    "            'M2M': 'other',\n",
    "            'PONTO_DE_SERVICO': 'other'\n",
    "        },\n",
    "        inplace=True\n",
    "    )\n",
    "\n",
    "    df = df.append(df_grouped)\n",
    "    print('finished', path)\n",
    "\n",
    "df.sort_values(by=['city', 'year', 'month'], inplace=True)\n",
    "df['date'] = pd.to_datetime(df['year']*100 + df['month'], format='%Y%m')\n",
    "df.drop(['year', 'month'], axis=1, inplace=True)\n",
    "df.reset_index(inplace=True, drop=True)\n",
    "\n",
    "df[['city', 'state', 'city_code', 'date',\n",
    "    'product_type', 'technology', 'accesses']].to_csv('../data/raw_data/mobile_telephony.csv')"
   ]
  },
  {
   "cell_type": "markdown",
   "id": "67243571",
   "metadata": {},
   "source": [
    "### Cable TV"
   ]
  },
  {
   "cell_type": "code",
   "execution_count": 5,
   "id": "f69d9b56",
   "metadata": {},
   "outputs": [],
   "source": [
    "df = pd.read_csv(\n",
    "    '../data/raw_data/large_files/acessos_tv_por_assinatura/Acessos_TV_Assinatura.csv',\n",
    "    delimiter=';',\n",
    "    low_memory=False\n",
    ")\n",
    "\n",
    "df_grouped = df[['Ano', 'Mês', 'Município', 'UF', \n",
    "                 'Código IBGE Município', 'Acessos']].groupby(['Município', 'UF', 'Código IBGE Município', \n",
    "                                                               'Ano', 'Mês']).sum()\n",
    "df_grouped.reset_index(inplace=True)\n",
    "df_grouped.rename(\n",
    "    columns={\n",
    "        'Município': 'city',\n",
    "        'UF': 'state',\n",
    "        'Código IBGE Município': 'city_code',\n",
    "        'Ano': 'year',\n",
    "        'Mês': 'month',\n",
    "        'Acessos': 'accesses'},\n",
    "    inplace=True\n",
    ")\n",
    "\n",
    "df_grouped = df_grouped[df_grouped['year'] >= 2020]\n",
    "df_grouped['date'] = pd.to_datetime(df_grouped['year']*100 + df_grouped['month'], format='%Y%m')\n",
    "df_grouped.drop(['year', 'month'], axis=1, inplace=True)\n",
    "df_grouped.reset_index(inplace=True, drop=True)\n",
    "df_grouped[['city', 'state', 'city_code', 'date', 'accesses']].to_csv('../data/raw_data/cable_television.csv')"
   ]
  }
 ],
 "metadata": {
  "kernelspec": {
   "display_name": "Python [conda env:study] *",
   "language": "python",
   "name": "conda-env-study-py"
  },
  "language_info": {
   "codemirror_mode": {
    "name": "ipython",
    "version": 3
   },
   "file_extension": ".py",
   "mimetype": "text/x-python",
   "name": "python",
   "nbconvert_exporter": "python",
   "pygments_lexer": "ipython3",
   "version": "3.7.9"
  }
 },
 "nbformat": 4,
 "nbformat_minor": 5
}
