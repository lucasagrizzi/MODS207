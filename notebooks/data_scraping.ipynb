{
 "cells": [
  {
   "cell_type": "markdown",
   "metadata": {},
   "source": [
    "# Data Scraping\n",
    "\n",
    "This script scrapes state-level social isolation data from a tableau-based website."
   ]
  },
  {
   "cell_type": "code",
   "execution_count": null,
   "metadata": {},
   "outputs": [],
   "source": [
    "import numpy as np\n",
    "import pandas as pd\n",
    "from tableauscraper import TableauScraper as TS"
   ]
  },
  {
   "cell_type": "code",
   "execution_count": null,
   "metadata": {},
   "outputs": [],
   "source": [
    "# Isolation index data URL\n",
    "url = \"https://public.tableau.com/views/MKTScoredeisolamentosocial/VisoGeral\"\n",
    "\n",
    "# Load URL and tableau workbook\n",
    "ts = TS()\n",
    "ts.loads(url)\n",
    "workbook = ts.getWorkbook()\n",
    "\n",
    "# Get main worksheet\n",
    "ws = ts.getWorksheet('map_state (2)')\n",
    "selects = ws.getSelectableItems()\n",
    "\n",
    "# Get list with all states\n",
    "states = selects[6]['values']\n",
    "\n",
    "# Get time series data from all states\n",
    "df = pd.DataFrame()\n",
    "for idx, state in enumerate(states):\n",
    "    print(f'Currently: {state}, Progress: {idx+1}/{len(states)}')\n",
    "    dashboard = ws.select(\"ATTR(State Name)\", state)\n",
    "    state_df = (dashboard.getWorksheet('time_line_BR')).data\n",
    "    df = pd.concat([df, state_df], axis=0, ignore_index=True)\n",
    "    \n",
    "# Save df in a csv\n",
    "df.to_csv('../data/raw_data/withdrawal_states.csv', index=False)"
   ]
  }
 ],
 "metadata": {
  "kernelspec": {
   "display_name": "Python [conda env:study] *",
   "language": "python",
   "name": "conda-env-study-py"
  },
  "language_info": {
   "codemirror_mode": {
    "name": "ipython",
    "version": 3
   },
   "file_extension": ".py",
   "mimetype": "text/x-python",
   "name": "python",
   "nbconvert_exporter": "python",
   "pygments_lexer": "ipython3",
   "version": "3.7.9"
  }
 },
 "nbformat": 4,
 "nbformat_minor": 4
}
