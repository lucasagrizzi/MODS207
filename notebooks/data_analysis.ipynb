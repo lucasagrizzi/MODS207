{
 "cells": [
  {
   "cell_type": "markdown",
   "id": "8f5a3ef7",
   "metadata": {},
   "source": [
    "# Data Analysis - MODS207\n",
    "## Authors: José Lucas Barretto and Lucas Miguel Celinga Agrizzi\n",
    "\n",
    "The goal of this notebook is to explore the collected data, visualize it to acquire insights, and run regression models."
   ]
  },
  {
   "cell_type": "markdown",
   "id": "ff1fe966",
   "metadata": {},
   "source": [
    "### Data Preparation"
   ]
  },
  {
   "cell_type": "code",
   "execution_count": 39,
   "id": "592fa2bd",
   "metadata": {},
   "outputs": [],
   "source": [
    "import pandas as pd\n",
    "import matplotlib.pyplot as plt\n",
    "from linearmodels import PanelOLS\n",
    "import statsmodels.api as sm\n",
    "import numpy as np\n",
    "import warnings\n",
    "\n",
    "warnings.simplefilter(action='ignore', category=FutureWarning)"
   ]
  },
  {
   "cell_type": "code",
   "execution_count": 27,
   "id": "17c03885",
   "metadata": {},
   "outputs": [],
   "source": [
    "# read processed data\n",
    "df_cities_static = pd.read_csv('../data/proc_data/cities_static.csv.zip', index_col=0)\n",
    "df_cities_temp = pd.read_csv('../data/proc_data/cities_temp.csv.zip', parse_dates=[3], index_col=0)"
   ]
  },
  {
   "cell_type": "code",
   "execution_count": 28,
   "id": "2481ed98",
   "metadata": {},
   "outputs": [],
   "source": [
    "# merge important data into one dataframe\n",
    "df_cities_temp['city_code'] = df_cities_temp['city_code'].astype(int)\n",
    "df = pd.merge(df_cities_temp, df_cities_static[['city_code', 'population']], on='city_code', how='left')"
   ]
  },
  {
   "cell_type": "code",
   "execution_count": 29,
   "id": "ab4df986",
   "metadata": {},
   "outputs": [],
   "source": [
    "# prepare withdrawal data to account for the delayed effect of covid contamination\n",
    "days_to_confirmation_avg = 6\n",
    "days_to_confirmation_std = 4\n",
    "\n",
    "# shift withdrawal dates\n",
    "shifted_withdrawal = pd.DataFrame()\n",
    "shifted_withdrawal['withdrawal_lagged'] = df['withdrawal']\n",
    "shifted_withdrawal['city_code'] = df['city_code']\n",
    "dates = df['date']\n",
    "shifted_withdrawal['date'] = dates + pd.Timedelta(days=days_to_confirmation_avg)\n",
    "df = pd.merge(df, shifted_withdrawal, on=['city_code', 'date'], how='left')\n",
    "\n",
    "# apply gaussian smoothing\n",
    "df['withdrawal_lagged_smooth'] = df.groupby('city_code')['withdrawal_lagged'].rolling(\n",
    "    20,\n",
    "    min_periods=1,\n",
    "    win_type='gaussian',\n",
    "    center=True\n",
    ").mean(std=days_to_confirmation_std).values"
   ]
  },
  {
   "cell_type": "code",
   "execution_count": 30,
   "id": "00a48130",
   "metadata": {},
   "outputs": [],
   "source": [
    "# smooth covid variables\n",
    "df['confirmed_day_smooth'] = df.groupby('city_code')['confirmed_day'].rolling(window=7).mean().values\n",
    "df['deaths_day_smooth'] = df.groupby('city_code')['deaths_day'].rolling(window=7).mean().values"
   ]
  },
  {
   "cell_type": "code",
   "execution_count": 31,
   "id": "dec5ff18",
   "metadata": {},
   "outputs": [],
   "source": [
    "# drop NaN values from dataset\n",
    "df.dropna(inplace=True)"
   ]
  },
  {
   "cell_type": "markdown",
   "id": "690d3f3b",
   "metadata": {},
   "source": [
    "### Descriptive Data Statistics"
   ]
  },
  {
   "cell_type": "markdown",
   "id": "f09f9aca",
   "metadata": {},
   "source": [
    "#### Number of Instances: \n",
    "\n",
    "For this part of the study, we will consider cities in the brazilian states of São Paulo and Bahia, where we have municipality level data. Note that not all dates are available for all cities, so we're going to give some descriptive stats on the time frame as well."
   ]
  },
  {
   "cell_type": "code",
   "execution_count": 46,
   "id": "85ba8bd0",
   "metadata": {},
   "outputs": [
    {
     "name": "stdout",
     "output_type": "stream",
     "text": [
      "Total number of instances: 141220\n",
      "Number of cities: 556\n",
      "Number of unique dates: 352\n",
      "Date range: 2020-03-03 to 2021-02-26\n"
     ]
    }
   ],
   "source": [
    "print('Total number of instances:', len(df))\n",
    "print('Number of cities:', len(df['city_code'].unique()))\n",
    "\n",
    "dates_descriptive = df['date'].describe(datetime_is_numeric=False)\n",
    "print('Number of unique dates:',  dates_descriptive['unique'])\n",
    "print('Date range:', dates_descriptive['first'].date(), 'to', dates_descriptive['last'].date())"
   ]
  },
  {
   "cell_type": "markdown",
   "id": "29a7d714",
   "metadata": {},
   "source": [
    "#### Descriptive Statistics by Variable:"
   ]
  },
  {
   "cell_type": "markdown",
   "id": "58898b77",
   "metadata": {},
   "source": [
    "##### Covid Variables:"
   ]
  },
  {
   "cell_type": "code",
   "execution_count": 66,
   "id": "7a4b4f6b",
   "metadata": {},
   "outputs": [
    {
     "data": {
      "text/html": [
       "<div>\n",
       "<style scoped>\n",
       "    .dataframe tbody tr th:only-of-type {\n",
       "        vertical-align: middle;\n",
       "    }\n",
       "\n",
       "    .dataframe tbody tr th {\n",
       "        vertical-align: top;\n",
       "    }\n",
       "\n",
       "    .dataframe thead th {\n",
       "        text-align: right;\n",
       "    }\n",
       "</style>\n",
       "<table border=\"1\" class=\"dataframe\">\n",
       "  <thead>\n",
       "    <tr style=\"text-align: right;\">\n",
       "      <th></th>\n",
       "      <th>daily cases (per 100000)</th>\n",
       "      <th>daily deaths (per 100000)</th>\n",
       "    </tr>\n",
       "  </thead>\n",
       "  <tbody>\n",
       "    <tr>\n",
       "      <th>count</th>\n",
       "      <td>141220.000000</td>\n",
       "      <td>141220.000000</td>\n",
       "    </tr>\n",
       "    <tr>\n",
       "      <th>mean</th>\n",
       "      <td>13.272304</td>\n",
       "      <td>0.241017</td>\n",
       "    </tr>\n",
       "    <tr>\n",
       "      <th>std</th>\n",
       "      <td>25.247115</td>\n",
       "      <td>1.046385</td>\n",
       "    </tr>\n",
       "    <tr>\n",
       "      <th>min</th>\n",
       "      <td>0.000000</td>\n",
       "      <td>0.000000</td>\n",
       "    </tr>\n",
       "    <tr>\n",
       "      <th>25%</th>\n",
       "      <td>0.000000</td>\n",
       "      <td>0.000000</td>\n",
       "    </tr>\n",
       "    <tr>\n",
       "      <th>50%</th>\n",
       "      <td>4.550448</td>\n",
       "      <td>0.000000</td>\n",
       "    </tr>\n",
       "    <tr>\n",
       "      <th>75%</th>\n",
       "      <td>16.197119</td>\n",
       "      <td>0.000000</td>\n",
       "    </tr>\n",
       "    <tr>\n",
       "      <th>max</th>\n",
       "      <td>1506.822738</td>\n",
       "      <td>35.932447</td>\n",
       "    </tr>\n",
       "  </tbody>\n",
       "</table>\n",
       "</div>"
      ],
      "text/plain": [
       "       daily cases (per 100000)  daily deaths (per 100000)\n",
       "count             141220.000000              141220.000000\n",
       "mean                  13.272304                   0.241017\n",
       "std                   25.247115                   1.046385\n",
       "min                    0.000000                   0.000000\n",
       "25%                    0.000000                   0.000000\n",
       "50%                    4.550448                   0.000000\n",
       "75%                   16.197119                   0.000000\n",
       "max                 1506.822738                  35.932447"
      ]
     },
     "execution_count": 66,
     "metadata": {},
     "output_type": "execute_result"
    }
   ],
   "source": [
    "covid_df = df[[\n",
    "    'confirmed_day',\n",
    "    'deaths_day',\n",
    "]].div(df['population'], axis=0)*100000\n",
    "\n",
    "covid_df.rename(\n",
    "    columns={'confirmed_day': 'daily cases (per 100000)', 'deaths_day': 'daily deaths (per 100000)'},\n",
    "    inplace=True\n",
    ")\n",
    "\n",
    "covid_df.describe()"
   ]
  },
  {
   "cell_type": "markdown",
   "id": "9f32530b",
   "metadata": {},
   "source": [
    "##### Telecommunication Variables:"
   ]
  },
  {
   "cell_type": "code",
   "execution_count": 67,
   "id": "4c715cd4",
   "metadata": {},
   "outputs": [
    {
     "data": {
      "text/html": [
       "<div>\n",
       "<style scoped>\n",
       "    .dataframe tbody tr th:only-of-type {\n",
       "        vertical-align: middle;\n",
       "    }\n",
       "\n",
       "    .dataframe tbody tr th {\n",
       "        vertical-align: top;\n",
       "    }\n",
       "\n",
       "    .dataframe thead th {\n",
       "        text-align: right;\n",
       "    }\n",
       "</style>\n",
       "<table border=\"1\" class=\"dataframe\">\n",
       "  <thead>\n",
       "    <tr style=\"text-align: right;\">\n",
       "      <th></th>\n",
       "      <th>cable_tv_accesses (per 100000)</th>\n",
       "      <th>fixed_bandwidth_accesses (per 100000)</th>\n",
       "      <th>fixed_telephony_accesses (per 100000)</th>\n",
       "      <th>2G_mobile_accesses (per 100000)</th>\n",
       "      <th>3G_mobile_accesses (per 100000)</th>\n",
       "      <th>4G_mobile_accesses (per 100000)</th>\n",
       "    </tr>\n",
       "  </thead>\n",
       "  <tbody>\n",
       "    <tr>\n",
       "      <th>count</th>\n",
       "      <td>141220.000000</td>\n",
       "      <td>141220.000000</td>\n",
       "      <td>141220.000000</td>\n",
       "      <td>141220.000000</td>\n",
       "      <td>141220.000000</td>\n",
       "      <td>141220.000000</td>\n",
       "    </tr>\n",
       "    <tr>\n",
       "      <th>mean</th>\n",
       "      <td>5434.561082</td>\n",
       "      <td>10003.775445</td>\n",
       "      <td>14193.907375</td>\n",
       "      <td>8482.866823</td>\n",
       "      <td>11305.564153</td>\n",
       "      <td>53283.276527</td>\n",
       "    </tr>\n",
       "    <tr>\n",
       "      <th>std</th>\n",
       "      <td>5530.301526</td>\n",
       "      <td>10498.538551</td>\n",
       "      <td>16959.555330</td>\n",
       "      <td>25130.242544</td>\n",
       "      <td>19263.703531</td>\n",
       "      <td>31564.768939</td>\n",
       "    </tr>\n",
       "    <tr>\n",
       "      <th>min</th>\n",
       "      <td>74.043603</td>\n",
       "      <td>189.831628</td>\n",
       "      <td>294.299141</td>\n",
       "      <td>357.483317</td>\n",
       "      <td>1755.058246</td>\n",
       "      <td>8316.314953</td>\n",
       "    </tr>\n",
       "    <tr>\n",
       "      <th>25%</th>\n",
       "      <td>1106.471816</td>\n",
       "      <td>2241.010492</td>\n",
       "      <td>2477.113624</td>\n",
       "      <td>4265.896881</td>\n",
       "      <td>6395.173958</td>\n",
       "      <td>30167.209067</td>\n",
       "    </tr>\n",
       "    <tr>\n",
       "      <th>50%</th>\n",
       "      <td>3753.971543</td>\n",
       "      <td>5777.260881</td>\n",
       "      <td>5193.995278</td>\n",
       "      <td>5923.725142</td>\n",
       "      <td>8409.117123</td>\n",
       "      <td>44432.353792</td>\n",
       "    </tr>\n",
       "    <tr>\n",
       "      <th>75%</th>\n",
       "      <td>7627.096939</td>\n",
       "      <td>15661.240558</td>\n",
       "      <td>23523.549104</td>\n",
       "      <td>8477.734302</td>\n",
       "      <td>10619.913128</td>\n",
       "      <td>72355.648536</td>\n",
       "    </tr>\n",
       "    <tr>\n",
       "      <th>max</th>\n",
       "      <td>32872.230141</td>\n",
       "      <td>226039.010173</td>\n",
       "      <td>114827.169322</td>\n",
       "      <td>938882.663856</td>\n",
       "      <td>462844.905752</td>\n",
       "      <td>494347.031963</td>\n",
       "    </tr>\n",
       "  </tbody>\n",
       "</table>\n",
       "</div>"
      ],
      "text/plain": [
       "       cable_tv_accesses (per 100000)  fixed_bandwidth_accesses (per 100000)  \\\n",
       "count                   141220.000000                          141220.000000   \n",
       "mean                      5434.561082                           10003.775445   \n",
       "std                       5530.301526                           10498.538551   \n",
       "min                         74.043603                             189.831628   \n",
       "25%                       1106.471816                            2241.010492   \n",
       "50%                       3753.971543                            5777.260881   \n",
       "75%                       7627.096939                           15661.240558   \n",
       "max                      32872.230141                          226039.010173   \n",
       "\n",
       "       fixed_telephony_accesses (per 100000)  2G_mobile_accesses (per 100000)  \\\n",
       "count                          141220.000000                    141220.000000   \n",
       "mean                            14193.907375                      8482.866823   \n",
       "std                             16959.555330                     25130.242544   \n",
       "min                               294.299141                       357.483317   \n",
       "25%                              2477.113624                      4265.896881   \n",
       "50%                              5193.995278                      5923.725142   \n",
       "75%                             23523.549104                      8477.734302   \n",
       "max                            114827.169322                    938882.663856   \n",
       "\n",
       "       3G_mobile_accesses (per 100000)  4G_mobile_accesses (per 100000)  \n",
       "count                    141220.000000                    141220.000000  \n",
       "mean                      11305.564153                     53283.276527  \n",
       "std                       19263.703531                     31564.768939  \n",
       "min                        1755.058246                      8316.314953  \n",
       "25%                        6395.173958                     30167.209067  \n",
       "50%                        8409.117123                     44432.353792  \n",
       "75%                       10619.913128                     72355.648536  \n",
       "max                      462844.905752                    494347.031963  "
      ]
     },
     "execution_count": 67,
     "metadata": {},
     "output_type": "execute_result"
    }
   ],
   "source": [
    "telecom_df = df[[\n",
    "    'cable_tv_accesses',\n",
    "    'fixed_bandwidth_accesses',\n",
    "    'fixed_telephony_accesses',\n",
    "    '2G_mobile_accesses',\n",
    "    '3G_mobile_accesses',\n",
    "    '4G_mobile_accesses'\n",
    "]].div(df['population'], axis=0)*100000\n",
    "\n",
    "telecom_df.rename(\n",
    "    columns={col_name: (col_name + ' (per 100000)') for col_name in telecom_df.columns},\n",
    "    inplace=True\n",
    ")\n",
    "\n",
    "telecom_df.describe()"
   ]
  },
  {
   "cell_type": "markdown",
   "id": "4b413307",
   "metadata": {},
   "source": [
    "##### Social Withdrawal"
   ]
  },
  {
   "cell_type": "code",
   "execution_count": 69,
   "id": "80139ba2",
   "metadata": {},
   "outputs": [
    {
     "data": {
      "text/html": [
       "<div>\n",
       "<style scoped>\n",
       "    .dataframe tbody tr th:only-of-type {\n",
       "        vertical-align: middle;\n",
       "    }\n",
       "\n",
       "    .dataframe tbody tr th {\n",
       "        vertical-align: top;\n",
       "    }\n",
       "\n",
       "    .dataframe thead th {\n",
       "        text-align: right;\n",
       "    }\n",
       "</style>\n",
       "<table border=\"1\" class=\"dataframe\">\n",
       "  <thead>\n",
       "    <tr style=\"text-align: right;\">\n",
       "      <th></th>\n",
       "      <th>withdrawal</th>\n",
       "    </tr>\n",
       "  </thead>\n",
       "  <tbody>\n",
       "    <tr>\n",
       "      <th>count</th>\n",
       "      <td>1.412200e+05</td>\n",
       "    </tr>\n",
       "    <tr>\n",
       "      <th>mean</th>\n",
       "      <td>1.837161e-05</td>\n",
       "    </tr>\n",
       "    <tr>\n",
       "      <th>std</th>\n",
       "      <td>1.789469e-05</td>\n",
       "    </tr>\n",
       "    <tr>\n",
       "      <th>min</th>\n",
       "      <td>2.463688e-08</td>\n",
       "    </tr>\n",
       "    <tr>\n",
       "      <th>25%</th>\n",
       "      <td>5.272910e-06</td>\n",
       "    </tr>\n",
       "    <tr>\n",
       "      <th>50%</th>\n",
       "      <td>1.315390e-05</td>\n",
       "    </tr>\n",
       "    <tr>\n",
       "      <th>75%</th>\n",
       "      <td>2.602780e-05</td>\n",
       "    </tr>\n",
       "    <tr>\n",
       "      <th>max</th>\n",
       "      <td>1.729958e-04</td>\n",
       "    </tr>\n",
       "  </tbody>\n",
       "</table>\n",
       "</div>"
      ],
      "text/plain": [
       "         withdrawal\n",
       "count  1.412200e+05\n",
       "mean   1.837161e-05\n",
       "std    1.789469e-05\n",
       "min    2.463688e-08\n",
       "25%    5.272910e-06\n",
       "50%    1.315390e-05\n",
       "75%    2.602780e-05\n",
       "max    1.729958e-04"
      ]
     },
     "execution_count": 69,
     "metadata": {},
     "output_type": "execute_result"
    }
   ],
   "source": [
    "withdrawal_df = df[[\n",
    "    'withdrawal'\n",
    "]].div(df['population'], axis=0)\n",
    "\n",
    "telecom_df.describe()"
   ]
  },
  {
   "cell_type": "markdown",
   "id": "2d8e5fe1",
   "metadata": {},
   "source": [
    "### Visualizations and Analyses"
   ]
  },
  {
   "cell_type": "markdown",
   "id": "ebe0c08f",
   "metadata": {},
   "source": [
    "#### Social Isolation Effect on the Covid-19 Pandemic"
   ]
  },
  {
   "cell_type": "code",
   "execution_count": 92,
   "id": "ef872f98",
   "metadata": {},
   "outputs": [
    {
     "data": {
      "image/png": "[encoded data removed]",
      "text/plain": [
       "<Figure size 864x432 with 2 Axes>"
      ]
     },
     "metadata": {
      "needs_background": "light"
     },
     "output_type": "display_data"
    }
   ],
   "source": [
    "fig, (ax1, ax2) = plt.subplots(1,2,figsize=(12,6))\n",
    "\n",
    "new_cases_pc = df['confirmed_day'].div(df['population'])\n",
    "deaths = df['deaths_day'].div(df['population'])\n",
    "withdrawal = df['withdrawal']\n",
    "\n",
    "ax1.scatter(withdrawal*100, new_cases_pc*100000, alpha=0.2)\n",
    "ax1.set_xlabel('Social Isolation Index (%)', labelpad=10)\n",
    "ax1.set_ylabel('Number per 100000 population', labelpad=10)\n",
    "ax1.set_title('New Cases', pad=10)\n",
    "ax1.grid(alpha=0.4)\n",
    "\n",
    "ax2.scatter(withdrawal*100, deaths*100000, alpha=0.2)\n",
    "ax2.set_xlabel('Social Isolation Index (%)', labelpad=10)\n",
    "ax2.set_title('Deaths', pad=10)\n",
    "ax2.grid(alpha=0.4)\n",
    "\n",
    "fig.suptitle('Effect of Social Isolation on Covid-19 Pandemic in Brazil')\n",
    "plt.tight_layout()\n",
    "plt.show()"
   ]
  },
  {
   "cell_type": "markdown",
   "id": "39090666",
   "metadata": {},
   "source": [
    "In this study, we use the social isolation index as a proxy for how the population is respecting social distance, and as a result of governmental policies. We can see that for social isolation ratings higher than 40%, both the number of new daily cases and the number of deaths are inversely correlated with isolation. This shows that social distance is indeed positive for containing the spread of the virus.\n",
    "\n",
    "However, if we look at the death and new cases rates at the lower end of the isolation index, we notice a positive correlation. This may be due to the fact that when the number of cases is low, people start to go out and the government loosens restrictions, leading to an increase in the number of cases."
   ]
  },
  {
   "cell_type": "markdown",
   "id": "0314d52a",
   "metadata": {},
   "source": [
    "### Regressions"
   ]
  },
  {
   "cell_type": "markdown",
   "id": "0daad129",
   "metadata": {},
   "source": [
    "#### Panel OLS - Deaths per capita x Social Withdrawal"
   ]
  },
  {
   "cell_type": "code",
   "execution_count": 81,
   "id": "5e549324",
   "metadata": {},
   "outputs": [],
   "source": [
    "y = df.loc[:,['city_code', 'date']]\n",
    "y['confirmed_day_pc'] = df['confirmed_day_smooth'].div(df['population'])\n",
    "y.set_index(['city_code', 'date'], inplace=True)"
   ]
  },
  {
   "cell_type": "code",
   "execution_count": 82,
   "id": "d2eababb",
   "metadata": {},
   "outputs": [],
   "source": [
    "X = sm.tools.tools.add_constant(df[['city_code', 'date', 'withdrawal_lagged_smooth']])\n",
    "X.set_index(['city_code', 'date'], inplace=True)"
   ]
  },
  {
   "cell_type": "code",
   "execution_count": null,
   "id": "23ccd13a",
   "metadata": {},
   "outputs": [],
   "source": [
    "model = PanelOLS(y, X, entity_effects=True, time_effects=True)\n",
    "res = model.fit(cov_type='clustered')\n",
    "print(res)"
   ]
  },
  {
   "cell_type": "markdown",
   "id": "3e542b03",
   "metadata": {},
   "source": [
    "#### Panel OLS - Deaths per capita x (Telecommunications + Social Withdrawal)"
   ]
  },
  {
   "cell_type": "code",
   "execution_count": 72,
   "id": "2ce43bf9",
   "metadata": {},
   "outputs": [],
   "source": [
    "X = sm.tools.tools.add_constant(df[['city_code', 'date', 'withdrawal_lagged_smooth']])\n",
    "X['fixed_bandwidth'] = df['fixed_bandwidth_accesses'].div(df['population'])\n",
    "X.set_index(['city_code', 'date'], inplace=True)"
   ]
  },
  {
   "cell_type": "code",
   "execution_count": 74,
   "id": "d5ddd652",
   "metadata": {},
   "outputs": [
    {
     "name": "stdout",
     "output_type": "stream",
     "text": [
      "                          PanelOLS Estimation Summary                           \n",
      "================================================================================\n",
      "Dep. Variable:       confirmed_day_pc   R-squared:                        0.0143\n",
      "Estimator:                   PanelOLS   R-squared (Between):              0.0509\n",
      "No. Observations:              132702   R-squared (Within):               0.0036\n",
      "Date:                Sat, May 29 2021   R-squared (Overall):              0.0143\n",
      "Time:                        18:30:52   Log-likelihood                 9.696e+05\n",
      "Cov. Estimator:             Clustered                                           \n",
      "                                        F-statistic:                      960.48\n",
      "Entities:                         556   P-value                           0.0000\n",
      "Avg Obs:                       238.67   Distribution:                F(2,132699)\n",
      "Min Obs:                       8.0000                                           \n",
      "Max Obs:                       325.00   F-statistic (robust):             736.85\n",
      "                                        P-value                           0.0000\n",
      "Time periods:                     338   Distribution:                F(2,132699)\n",
      "Avg Obs:                       392.61                                           \n",
      "Min Obs:                       1.0000                                           \n",
      "Max Obs:                       555.00                                           \n",
      "                                                                                \n",
      "                                    Parameter Estimates                                     \n",
      "============================================================================================\n",
      "                          Parameter  Std. Err.     T-stat    P-value    Lower CI    Upper CI\n",
      "--------------------------------------------------------------------------------------------\n",
      "const                        0.0002  3.638e-06     66.583     0.0000      0.0002      0.0002\n",
      "withdrawal_lagged_smooth    -0.0003  9.073e-06    -32.540     0.0000     -0.0003     -0.0003\n",
      "fixed_bandwidth              0.0002   5.27e-06     30.437     0.0000      0.0002      0.0002\n",
      "============================================================================================\n",
      "\n",
      "\n"
     ]
    }
   ],
   "source": [
    "model = PanelOLS(y, X, entity_effects=False, time_effects=False)\n",
    "res = model.fit(cov_type='clustered')\n",
    "print(res)"
   ]
  },
  {
   "cell_type": "code",
   "execution_count": 75,
   "id": "0ca40d7d",
   "metadata": {},
   "outputs": [
    {
     "name": "stdout",
     "output_type": "stream",
     "text": [
      "                          PanelOLS Estimation Summary                           \n",
      "================================================================================\n",
      "Dep. Variable:       confirmed_day_pc   R-squared:                        0.0176\n",
      "Estimator:                   PanelOLS   R-squared (Between):              0.0720\n",
      "No. Observations:              132702   R-squared (Within):               0.0043\n",
      "Date:                Sat, May 29 2021   R-squared (Overall):              0.0176\n",
      "Time:                        18:30:58   Log-likelihood                 9.698e+05\n",
      "Cov. Estimator:             Clustered                                           \n",
      "                                        F-statistic:                      792.19\n",
      "Entities:                         556   P-value                           0.0000\n",
      "Avg Obs:                       238.67   Distribution:                F(3,132698)\n",
      "Min Obs:                       8.0000                                           \n",
      "Max Obs:                       325.00   F-statistic (robust):             849.90\n",
      "                                        P-value                           0.0000\n",
      "Time periods:                     338   Distribution:                F(3,132698)\n",
      "Avg Obs:                       392.61                                           \n",
      "Min Obs:                       1.0000                                           \n",
      "Max Obs:                       555.00                                           \n",
      "                                                                                \n",
      "                                    Parameter Estimates                                     \n",
      "============================================================================================\n",
      "                          Parameter  Std. Err.     T-stat    P-value    Lower CI    Upper CI\n",
      "--------------------------------------------------------------------------------------------\n",
      "const                        0.0002  3.663e-06     67.727     0.0000      0.0002      0.0003\n",
      "withdrawal_lagged_smooth    -0.0003  9.113e-06    -35.379     0.0000     -0.0003     -0.0003\n",
      "fixed_bandwidth           9.897e-05  6.138e-06     16.125     0.0000   8.694e-05      0.0001\n",
      "cable_tv                     0.0002  1.086e-05     19.452     0.0000      0.0002      0.0002\n",
      "============================================================================================\n",
      "\n",
      "\n"
     ]
    }
   ],
   "source": [
    "X = sm.tools.tools.add_constant(df[['city_code', 'date', 'withdrawal_lagged_smooth']])\n",
    "X['fixed_bandwidth'] = df['fixed_bandwidth_accesses'].div(df['population'])\n",
    "X['cable_tv'] = df['cable_tv_accesses'].div(df['population'])\n",
    "X.set_index(['city_code', 'date'], inplace=True)\n",
    "\n",
    "model = PanelOLS(y, X, entity_effects=False, time_effects=False)\n",
    "res = model.fit(cov_type='clustered')\n",
    "print(res)"
   ]
  },
  {
   "cell_type": "code",
   "execution_count": 63,
   "id": "e665288b",
   "metadata": {},
   "outputs": [
    {
     "name": "stdout",
     "output_type": "stream",
     "text": [
      "                          PanelOLS Estimation Summary                           \n",
      "================================================================================\n",
      "Dep. Variable:          deaths_day_pc   R-squared:                        0.0463\n",
      "Estimator:                   PanelOLS   R-squared (Between):              0.3216\n",
      "No. Observations:              132702   R-squared (Within):               0.0014\n",
      "Date:                Sat, May 29 2021   R-squared (Overall):              0.0463\n",
      "Time:                        18:28:14   Log-likelihood                 1.447e+06\n",
      "Cov. Estimator:             Clustered                                           \n",
      "                                        F-statistic:                      1611.4\n",
      "Entities:                         556   P-value                           0.0000\n",
      "Avg Obs:                       238.67   Distribution:                F(4,132697)\n",
      "Min Obs:                       8.0000                                           \n",
      "Max Obs:                       325.00   F-statistic (robust):             1811.4\n",
      "                                        P-value                           0.0000\n",
      "Time periods:                     338   Distribution:                F(4,132697)\n",
      "Avg Obs:                       392.61                                           \n",
      "Min Obs:                       1.0000                                           \n",
      "Max Obs:                       555.00                                           \n",
      "                                                                                \n",
      "                                    Parameter Estimates                                     \n",
      "============================================================================================\n",
      "                          Parameter  Std. Err.     T-stat    P-value    Lower CI    Upper CI\n",
      "--------------------------------------------------------------------------------------------\n",
      "const                     1.391e-07  9.755e-08     1.4258     0.1539  -5.211e-08   3.303e-07\n",
      "withdrawal_lagged_smooth  1.815e-06  2.381e-07     7.6222     0.0000   1.348e-06   2.281e-06\n",
      "fixed_bandwidth           1.939e-06  1.888e-07     10.271     0.0000   1.569e-06    2.31e-06\n",
      "cable_tv                  2.972e-06  2.688e-07     11.055     0.0000   2.445e-06   3.499e-06\n",
      "4G                        2.259e-06  5.918e-08     38.175     0.0000   2.143e-06   2.375e-06\n",
      "============================================================================================\n",
      "\n",
      "\n"
     ]
    }
   ],
   "source": [
    "X = sm.tools.tools.add_constant(df[['city_code', 'date', 'withdrawal_lagged_smooth']])\n",
    "X['fixed_bandwidth'] = df['fixed_bandwidth_accesses'].div(df['population'])\n",
    "X['cable_tv'] = df['cable_tv_accesses'].div(df['population'])\n",
    "X['4G'] = df['4G_mobile_accesses'].div(df['population'])\n",
    "X.set_index(['city_code', 'date'], inplace=True)\n",
    "\n",
    "model = PanelOLS(y, X, entity_effects=False, time_effects=False)\n",
    "res = model.fit(cov_type='clustered')\n",
    "print(res)"
   ]
  },
  {
   "cell_type": "code",
   "execution_count": 76,
   "id": "eec40fb4",
   "metadata": {},
   "outputs": [
    {
     "name": "stdout",
     "output_type": "stream",
     "text": [
      "                          PanelOLS Estimation Summary                           \n",
      "================================================================================\n",
      "Dep. Variable:       confirmed_day_pc   R-squared:                        0.0341\n",
      "Estimator:                   PanelOLS   R-squared (Between):              0.1161\n",
      "No. Observations:              132702   R-squared (Within):               0.0144\n",
      "Date:                Sat, May 29 2021   R-squared (Overall):              0.0341\n",
      "Time:                        18:31:36   Log-likelihood                 9.709e+05\n",
      "Cov. Estimator:             Clustered                                           \n",
      "                                        F-statistic:                      937.44\n",
      "Entities:                         556   P-value                           0.0000\n",
      "Avg Obs:                       238.67   Distribution:                F(5,132696)\n",
      "Min Obs:                       8.0000                                           \n",
      "Max Obs:                       325.00   F-statistic (robust):             907.60\n",
      "                                        P-value                           0.0000\n",
      "Time periods:                     338   Distribution:                F(5,132696)\n",
      "Avg Obs:                       392.61                                           \n",
      "Min Obs:                       1.0000                                           \n",
      "Max Obs:                       555.00                                           \n",
      "                                                                                \n",
      "                                    Parameter Estimates                                     \n",
      "============================================================================================\n",
      "                          Parameter  Std. Err.     T-stat    P-value    Lower CI    Upper CI\n",
      "--------------------------------------------------------------------------------------------\n",
      "const                        0.0002  3.805e-06     54.442     0.0000      0.0002      0.0002\n",
      "withdrawal_lagged_smooth    -0.0003  9.221e-06    -31.855     0.0000     -0.0003     -0.0003\n",
      "fixed_bandwidth          -6.833e-05  5.873e-06    -11.636     0.0000  -7.985e-05  -5.682e-05\n",
      "cable_tv                     0.0002  1.035e-05     14.953     0.0000      0.0001      0.0002\n",
      "4G                          9.8e-05  2.209e-06     44.358     0.0000   9.367e-05      0.0001\n",
      "3G                       -3.007e-05  2.142e-06    -14.039     0.0000  -3.427e-05  -2.587e-05\n",
      "============================================================================================\n",
      "\n",
      "\n"
     ]
    }
   ],
   "source": [
    "X = sm.tools.tools.add_constant(df[['city_code', 'date', 'withdrawal_lagged_smooth']])\n",
    "X['fixed_bandwidth'] = df['fixed_bandwidth_accesses'].div(df['population'])\n",
    "X['cable_tv'] = df['cable_tv_accesses'].div(df['population'])\n",
    "X['4G'] = df['4G_mobile_accesses'].div(df['population'])\n",
    "X['3G'] = df['3G_mobile_accesses'].div(df['population'])\n",
    "X.set_index(['city_code', 'date'], inplace=True)\n",
    "\n",
    "model = PanelOLS(y, X, entity_effects=False, time_effects=False)\n",
    "res = model.fit(cov_type='clustered')\n",
    "print(res)"
   ]
  },
  {
   "cell_type": "code",
   "execution_count": 77,
   "id": "ca49f89f",
   "metadata": {},
   "outputs": [
    {
     "name": "stdout",
     "output_type": "stream",
     "text": [
      "                          PanelOLS Estimation Summary                           \n",
      "================================================================================\n",
      "Dep. Variable:       confirmed_day_pc   R-squared:                        0.0341\n",
      "Estimator:                   PanelOLS   R-squared (Between):              0.1160\n",
      "No. Observations:              132702   R-squared (Within):               0.0144\n",
      "Date:                Sat, May 29 2021   R-squared (Overall):              0.0341\n",
      "Time:                        18:32:33   Log-likelihood                 9.709e+05\n",
      "Cov. Estimator:             Clustered                                           \n",
      "                                        F-statistic:                      781.23\n",
      "Entities:                         556   P-value                           0.0000\n",
      "Avg Obs:                       238.67   Distribution:                F(6,132695)\n",
      "Min Obs:                       8.0000                                           \n",
      "Max Obs:                       325.00   F-statistic (robust):             761.23\n",
      "                                        P-value                           0.0000\n",
      "Time periods:                     338   Distribution:                F(6,132695)\n",
      "Avg Obs:                       392.61                                           \n",
      "Min Obs:                       1.0000                                           \n",
      "Max Obs:                       555.00                                           \n",
      "                                                                                \n",
      "                                    Parameter Estimates                                     \n",
      "============================================================================================\n",
      "                          Parameter  Std. Err.     T-stat    P-value    Lower CI    Upper CI\n",
      "--------------------------------------------------------------------------------------------\n",
      "const                        0.0002  3.807e-06     54.391     0.0000      0.0002      0.0002\n",
      "withdrawal_lagged_smooth    -0.0003  9.222e-06    -31.846     0.0000     -0.0003     -0.0003\n",
      "fixed_bandwidth          -6.841e-05  5.871e-06    -11.652     0.0000  -7.992e-05  -5.691e-05\n",
      "cable_tv                     0.0002  1.035e-05     14.961     0.0000      0.0001      0.0002\n",
      "4G                        9.816e-05  2.253e-06     43.567     0.0000   9.374e-05      0.0001\n",
      "3G                       -3.129e-05  3.781e-06    -8.2748     0.0000   -3.87e-05  -2.388e-05\n",
      "2G                        1.156e-06  2.031e-06     0.5693     0.5692  -2.824e-06   5.137e-06\n",
      "============================================================================================\n",
      "\n",
      "\n"
     ]
    }
   ],
   "source": [
    "X = sm.tools.tools.add_constant(df[['city_code', 'date', 'withdrawal_lagged_smooth']])\n",
    "X['fixed_bandwidth'] = df['fixed_bandwidth_accesses'].div(df['population'])\n",
    "X['cable_tv'] = df['cable_tv_accesses'].div(df['population'])\n",
    "X['4G'] = df['4G_mobile_accesses'].div(df['population'])\n",
    "X['3G'] = df['3G_mobile_accesses'].div(df['population'])\n",
    "X['2G'] = df['2G_mobile_accesses'].div(df['population'])\n",
    "X.set_index(['city_code', 'date'], inplace=True)\n",
    "\n",
    "model = PanelOLS(y, X, entity_effects=False, time_effects=False)\n",
    "res = model.fit(cov_type='clustered')\n",
    "print(res)"
   ]
  },
  {
   "cell_type": "code",
   "execution_count": 78,
   "id": "f14ef1a2",
   "metadata": {},
   "outputs": [
    {
     "name": "stdout",
     "output_type": "stream",
     "text": [
      "                          PanelOLS Estimation Summary                           \n",
      "================================================================================\n",
      "Dep. Variable:       confirmed_day_pc   R-squared:                        0.0475\n",
      "Estimator:                   PanelOLS   R-squared (Between):              0.1059\n",
      "No. Observations:              132702   R-squared (Within):               0.0342\n",
      "Date:                Sat, May 29 2021   R-squared (Overall):              0.0475\n",
      "Time:                        18:32:44   Log-likelihood                 9.719e+05\n",
      "Cov. Estimator:             Clustered                                           \n",
      "                                        F-statistic:                      945.67\n",
      "Entities:                         556   P-value                           0.0000\n",
      "Avg Obs:                       238.67   Distribution:                F(7,132694)\n",
      "Min Obs:                       8.0000                                           \n",
      "Max Obs:                       325.00   F-statistic (robust):             716.96\n",
      "                                        P-value                           0.0000\n",
      "Time periods:                     338   Distribution:                F(7,132694)\n",
      "Avg Obs:                       392.61                                           \n",
      "Min Obs:                       1.0000                                           \n",
      "Max Obs:                       555.00                                           \n",
      "                                                                                \n",
      "                                    Parameter Estimates                                     \n",
      "============================================================================================\n",
      "                          Parameter  Std. Err.     T-stat    P-value    Lower CI    Upper CI\n",
      "--------------------------------------------------------------------------------------------\n",
      "const                        0.0001  4.239e-06     33.509     0.0000      0.0001      0.0002\n",
      "withdrawal_lagged_smooth    -0.0002  9.904e-06    -16.199     0.0000     -0.0002     -0.0001\n",
      "fixed_bandwidth            8.14e-05  8.479e-06     9.6002     0.0000   6.478e-05   9.802e-05\n",
      "cable_tv                     0.0003  1.151e-05     24.593     0.0000      0.0003      0.0003\n",
      "4G                           0.0001  2.866e-06     45.494     0.0000      0.0001      0.0001\n",
      "3G                        -2.28e-05  3.851e-06    -5.9203     0.0000  -3.035e-05  -1.525e-05\n",
      "2G                        1.224e-05  2.123e-06     5.7676     0.0000   8.083e-06    1.64e-05\n",
      "fixed_telephony_accesses    -0.0002  5.455e-06    -40.414     0.0000     -0.0002     -0.0002\n",
      "============================================================================================\n",
      "\n",
      "\n"
     ]
    }
   ],
   "source": [
    "X = sm.tools.tools.add_constant(df[['city_code', 'date', 'withdrawal_lagged_smooth']])\n",
    "X['fixed_bandwidth'] = df['fixed_bandwidth_accesses'].div(df['population'])\n",
    "X['cable_tv'] = df['cable_tv_accesses'].div(df['population'])\n",
    "X['4G'] = df['4G_mobile_accesses'].div(df['population'])\n",
    "X['3G'] = df['3G_mobile_accesses'].div(df['population'])\n",
    "X['2G'] = df['2G_mobile_accesses'].div(df['population'])\n",
    "X['fixed_telephony_accesses'] = df['fixed_telephony_accesses'].div(df['population'])\n",
    "X.set_index(['city_code', 'date'], inplace=True)\n",
    "\n",
    "model = PanelOLS(y, X, entity_effects=False, time_effects=False)\n",
    "res = model.fit(cov_type='clustered')\n",
    "print(res)"
   ]
  },
  {
   "cell_type": "code",
   "execution_count": null,
   "id": "c9ff7b99",
   "metadata": {},
   "outputs": [],
   "source": []
  }
 ],
 "metadata": {
  "kernelspec": {
   "display_name": "Python [conda env:study] *",
   "language": "python",
   "name": "conda-env-study-py"
  },
  "language_info": {
   "codemirror_mode": {
    "name": "ipython",
    "version": 3
   },
   "file_extension": ".py",
   "mimetype": "text/x-python",
   "name": "python",
   "nbconvert_exporter": "python",
   "pygments_lexer": "ipython3",
   "version": "3.7.9"
  }
 },
 "nbformat": 4,
 "nbformat_minor": 5
}
