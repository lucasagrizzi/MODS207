{
 "cells": [
  {
   "cell_type": "markdown",
   "id": "2799e6be",
   "metadata": {},
   "source": [
    "# Data Analysis - MODS207\n",
    "## Authors: José Lucas Barretto and Lucas Miguel Celinga Agrizzi\n",
    "\n",
    "The goal of this notebook is to explore the collected data, visualize it to acquire insights, and run regression models."
   ]
  },
  {
   "cell_type": "markdown",
   "id": "5350e81d",
   "metadata": {},
   "source": [
    "### Data Preparation"
   ]
  },
  {
   "cell_type": "code",
   "execution_count": 1,
   "id": "7101f900",
   "metadata": {},
   "outputs": [],
   "source": [
    "import pandas as pd\n",
    "import matplotlib.pyplot as plt\n",
    "from linearmodels import PanelOLS\n",
    "from linearmodels import RandomEffects\n",
    "import statsmodels.api as sm\n",
    "import numpy as np\n",
    "import warnings\n",
    "\n",
    "warnings.simplefilter(action='ignore', category=FutureWarning)"
   ]
  },
  {
   "cell_type": "code",
   "execution_count": 2,
   "id": "b272cabb",
   "metadata": {},
   "outputs": [],
   "source": [
    "# read processed data\n",
    "df_cities_static = pd.read_csv('../data/proc_data/cities_static.csv.zip', index_col=0)\n",
    "df_cities_temp = pd.read_csv('../data/proc_data/cities_temp.csv.zip', parse_dates=[3], index_col=0)"
   ]
  },
  {
   "cell_type": "code",
   "execution_count": 3,
   "id": "b68557ee",
   "metadata": {},
   "outputs": [],
   "source": [
    "# merge important data into one dataframe\n",
    "df_cities_temp['city_code'] = df_cities_temp['city_code'].astype(int)\n",
    "df = pd.merge(df_cities_temp, df_cities_static[['city_code', 'population']], on='city_code', how='left')"
   ]
  },
  {
   "cell_type": "code",
   "execution_count": 4,
   "id": "5951db90",
   "metadata": {},
   "outputs": [],
   "source": [
    "# prepare withdrawal data to account for the delayed effect of covid contamination\n",
    "days_to_confirmation_avg = 20\n",
    "days_to_confirmation_std = 4\n",
    "\n",
    "# shift withdrawal dates\n",
    "shifted_withdrawal = pd.DataFrame()\n",
    "shifted_withdrawal['withdrawal_lagged'] = df['withdrawal']\n",
    "shifted_withdrawal['city_code'] = df['city_code']\n",
    "dates = df['date']\n",
    "shifted_withdrawal['date'] = dates + pd.Timedelta(days=days_to_confirmation_avg)\n",
    "df = pd.merge(df, shifted_withdrawal, on=['city_code', 'date'], how='left')\n",
    "\n",
    "#apply gaussian smoothing\n",
    "df['withdrawal_lagged_smooth'] = df.groupby('city_code')['withdrawal_lagged'].rolling(\n",
    "    60,\n",
    "    min_periods=1,\n",
    "    win_type='gaussian',\n",
    "    center=True\n",
    ").mean(std=days_to_confirmation_std).values"
   ]
  },
  {
   "cell_type": "code",
   "execution_count": 5,
   "id": "0e536b23",
   "metadata": {},
   "outputs": [],
   "source": [
    "# smooth covid variables\n",
    "df['confirmed_day_smooth'] = df.groupby('city_code')['confirmed_day'].rolling(window=15).mean().values\n",
    "df['deaths_day_smooth'] = df.groupby('city_code')['deaths_day'].rolling(window=15).mean().values"
   ]
  },
  {
   "cell_type": "code",
   "execution_count": 6,
   "id": "5a79321a",
   "metadata": {},
   "outputs": [],
   "source": [
    "# add state dummy variable\n",
    "df['is_SP'] = df['state'] == 'SP'"
   ]
  },
  {
   "cell_type": "markdown",
   "id": "43605142",
   "metadata": {},
   "source": [
    "#### Filtering"
   ]
  },
  {
   "cell_type": "markdown",
   "id": "9c2bc06c",
   "metadata": {},
   "source": [
    "For the following analyses, we will only consider cities with more than 100.000 population, since they convey the cities that were mostly affected by the Covid-19 pandemic. Additionally, we will only consider data entries that registered more than one case of Covid-19 per day and with a social withdrawal index higher than 30%."
   ]
  },
  {
   "cell_type": "code",
   "execution_count": 7,
   "id": "2dd63df5",
   "metadata": {},
   "outputs": [],
   "source": [
    "# apply filtering conditions\n",
    "mask = (df['population'] > 100000) & (df['confirmed_day'] > 0) & (df['withdrawal'] > 0.4)\n",
    "df = df[mask]\n",
    "\n",
    "# drop NaN values from dataset\n",
    "df.dropna(inplace=True)"
   ]
  },
  {
   "cell_type": "markdown",
   "id": "9407c670",
   "metadata": {},
   "source": [
    "### Descriptive Data Statistics"
   ]
  },
  {
   "cell_type": "markdown",
   "id": "a4bd60ff",
   "metadata": {},
   "source": [
    "#### Number of Instances: \n",
    "\n",
    "For this part of the study, we will consider cities in the brazilian states of São Paulo and Bahia, where we have municipality level data. Note that not all dates are available for all cities, so we're going to give some descriptive stats on the time frame as well."
   ]
  },
  {
   "cell_type": "code",
   "execution_count": 8,
   "id": "734dd01a",
   "metadata": {},
   "outputs": [
    {
     "name": "stdout",
     "output_type": "stream",
     "text": [
      "Total number of instances: 12216\n",
      "Number of cities: 97\n",
      "Number of unique dates: 325\n",
      "Date range: 2020-03-19 to 2021-02-26\n"
     ]
    }
   ],
   "source": [
    "print('Total number of instances:', len(df))\n",
    "print('Number of cities:', len(df['city_code'].unique()))\n",
    "\n",
    "dates_descriptive = df['date'].describe(datetime_is_numeric=False)\n",
    "print('Number of unique dates:',  dates_descriptive['unique'])\n",
    "print('Date range:', dates_descriptive['first'].date(), 'to', dates_descriptive['last'].date())"
   ]
  },
  {
   "cell_type": "markdown",
   "id": "88bb85ae",
   "metadata": {},
   "source": [
    "#### Descriptive Statistics by Variable:"
   ]
  },
  {
   "cell_type": "markdown",
   "id": "ee4ee511",
   "metadata": {},
   "source": [
    "##### Covid Variables:"
   ]
  },
  {
   "cell_type": "code",
   "execution_count": 9,
   "id": "c1913002",
   "metadata": {},
   "outputs": [
    {
     "data": {
      "text/html": [
       "<div>\n",
       "<style scoped>\n",
       "    .dataframe tbody tr th:only-of-type {\n",
       "        vertical-align: middle;\n",
       "    }\n",
       "\n",
       "    .dataframe tbody tr th {\n",
       "        vertical-align: top;\n",
       "    }\n",
       "\n",
       "    .dataframe thead th {\n",
       "        text-align: right;\n",
       "    }\n",
       "</style>\n",
       "<table border=\"1\" class=\"dataframe\">\n",
       "  <thead>\n",
       "    <tr style=\"text-align: right;\">\n",
       "      <th></th>\n",
       "      <th>daily cases (per 100000)</th>\n",
       "      <th>daily deaths (per 100000)</th>\n",
       "    </tr>\n",
       "  </thead>\n",
       "  <tbody>\n",
       "    <tr>\n",
       "      <th>count</th>\n",
       "      <td>12216.000000</td>\n",
       "      <td>12216.000000</td>\n",
       "    </tr>\n",
       "    <tr>\n",
       "      <th>mean</th>\n",
       "      <td>13.387140</td>\n",
       "      <td>0.417540</td>\n",
       "    </tr>\n",
       "    <tr>\n",
       "      <th>std</th>\n",
       "      <td>16.851666</td>\n",
       "      <td>0.783865</td>\n",
       "    </tr>\n",
       "    <tr>\n",
       "      <th>min</th>\n",
       "      <td>0.073212</td>\n",
       "      <td>0.000000</td>\n",
       "    </tr>\n",
       "    <tr>\n",
       "      <th>25%</th>\n",
       "      <td>2.871799</td>\n",
       "      <td>0.000000</td>\n",
       "    </tr>\n",
       "    <tr>\n",
       "      <th>50%</th>\n",
       "      <td>7.695909</td>\n",
       "      <td>0.000000</td>\n",
       "    </tr>\n",
       "    <tr>\n",
       "      <th>75%</th>\n",
       "      <td>17.201087</td>\n",
       "      <td>0.641849</td>\n",
       "    </tr>\n",
       "    <tr>\n",
       "      <th>max</th>\n",
       "      <td>363.412696</td>\n",
       "      <td>17.498873</td>\n",
       "    </tr>\n",
       "  </tbody>\n",
       "</table>\n",
       "</div>"
      ],
      "text/plain": [
       "       daily cases (per 100000)  daily deaths (per 100000)\n",
       "count              12216.000000               12216.000000\n",
       "mean                  13.387140                   0.417540\n",
       "std                   16.851666                   0.783865\n",
       "min                    0.073212                   0.000000\n",
       "25%                    2.871799                   0.000000\n",
       "50%                    7.695909                   0.000000\n",
       "75%                   17.201087                   0.641849\n",
       "max                  363.412696                  17.498873"
      ]
     },
     "execution_count": 9,
     "metadata": {},
     "output_type": "execute_result"
    }
   ],
   "source": [
    "covid_df = df[[\n",
    "    'confirmed_day',\n",
    "    'deaths_day',\n",
    "]].div(df['population'], axis=0)*100000\n",
    "\n",
    "covid_df.rename(\n",
    "    columns={'confirmed_day': 'daily cases (per 100000)', 'deaths_day': 'daily deaths (per 100000)'},\n",
    "    inplace=True\n",
    ")\n",
    "\n",
    "covid_df.describe()"
   ]
  },
  {
   "cell_type": "markdown",
   "id": "ade7fb55",
   "metadata": {},
   "source": [
    "##### Telecommunication Variables:"
   ]
  },
  {
   "cell_type": "code",
   "execution_count": 10,
   "id": "dc7ed771",
   "metadata": {},
   "outputs": [
    {
     "data": {
      "text/html": [
       "<div>\n",
       "<style scoped>\n",
       "    .dataframe tbody tr th:only-of-type {\n",
       "        vertical-align: middle;\n",
       "    }\n",
       "\n",
       "    .dataframe tbody tr th {\n",
       "        vertical-align: top;\n",
       "    }\n",
       "\n",
       "    .dataframe thead th {\n",
       "        text-align: right;\n",
       "    }\n",
       "</style>\n",
       "<table border=\"1\" class=\"dataframe\">\n",
       "  <thead>\n",
       "    <tr style=\"text-align: right;\">\n",
       "      <th></th>\n",
       "      <th>cable_tv_accesses (per 100000)</th>\n",
       "      <th>fixed_bandwidth_accesses (per 100000)</th>\n",
       "      <th>fixed_telephony_accesses (per 100000)</th>\n",
       "      <th>2G_mobile_accesses (per 100000)</th>\n",
       "      <th>3G_mobile_accesses (per 100000)</th>\n",
       "      <th>4G_mobile_accesses (per 100000)</th>\n",
       "    </tr>\n",
       "  </thead>\n",
       "  <tbody>\n",
       "    <tr>\n",
       "      <th>count</th>\n",
       "      <td>12216.000000</td>\n",
       "      <td>12216.000000</td>\n",
       "      <td>12216.000000</td>\n",
       "      <td>12216.000000</td>\n",
       "      <td>12216.000000</td>\n",
       "      <td>12216.000000</td>\n",
       "    </tr>\n",
       "    <tr>\n",
       "      <th>mean</th>\n",
       "      <td>10951.707379</td>\n",
       "      <td>22432.067312</td>\n",
       "      <td>39083.566663</td>\n",
       "      <td>14918.084227</td>\n",
       "      <td>22046.882124</td>\n",
       "      <td>90420.909089</td>\n",
       "    </tr>\n",
       "    <tr>\n",
       "      <th>std</th>\n",
       "      <td>5814.543110</td>\n",
       "      <td>8201.739808</td>\n",
       "      <td>16752.773578</td>\n",
       "      <td>54587.122190</td>\n",
       "      <td>38268.224098</td>\n",
       "      <td>28140.232491</td>\n",
       "    </tr>\n",
       "    <tr>\n",
       "      <th>min</th>\n",
       "      <td>834.173703</td>\n",
       "      <td>3618.298047</td>\n",
       "      <td>5133.939665</td>\n",
       "      <td>2495.117796</td>\n",
       "      <td>3489.217601</td>\n",
       "      <td>37405.472223</td>\n",
       "    </tr>\n",
       "    <tr>\n",
       "      <th>25%</th>\n",
       "      <td>6420.159501</td>\n",
       "      <td>16484.127453</td>\n",
       "      <td>29406.119259</td>\n",
       "      <td>4646.719025</td>\n",
       "      <td>8408.664741</td>\n",
       "      <td>74564.562792</td>\n",
       "    </tr>\n",
       "    <tr>\n",
       "      <th>50%</th>\n",
       "      <td>10775.305433</td>\n",
       "      <td>22420.759988</td>\n",
       "      <td>36977.627400</td>\n",
       "      <td>5963.361626</td>\n",
       "      <td>9603.515869</td>\n",
       "      <td>81015.153567</td>\n",
       "    </tr>\n",
       "    <tr>\n",
       "      <th>75%</th>\n",
       "      <td>15086.133553</td>\n",
       "      <td>28874.524392</td>\n",
       "      <td>48499.978783</td>\n",
       "      <td>8936.064728</td>\n",
       "      <td>13542.882147</td>\n",
       "      <td>95730.202099</td>\n",
       "    </tr>\n",
       "    <tr>\n",
       "      <th>max</th>\n",
       "      <td>28899.174745</td>\n",
       "      <td>42785.836843</td>\n",
       "      <td>114025.122924</td>\n",
       "      <td>938882.663856</td>\n",
       "      <td>462844.905752</td>\n",
       "      <td>333226.312785</td>\n",
       "    </tr>\n",
       "  </tbody>\n",
       "</table>\n",
       "</div>"
      ],
      "text/plain": [
       "       cable_tv_accesses (per 100000)  fixed_bandwidth_accesses (per 100000)  \\\n",
       "count                    12216.000000                           12216.000000   \n",
       "mean                     10951.707379                           22432.067312   \n",
       "std                       5814.543110                            8201.739808   \n",
       "min                        834.173703                            3618.298047   \n",
       "25%                       6420.159501                           16484.127453   \n",
       "50%                      10775.305433                           22420.759988   \n",
       "75%                      15086.133553                           28874.524392   \n",
       "max                      28899.174745                           42785.836843   \n",
       "\n",
       "       fixed_telephony_accesses (per 100000)  2G_mobile_accesses (per 100000)  \\\n",
       "count                           12216.000000                     12216.000000   \n",
       "mean                            39083.566663                     14918.084227   \n",
       "std                             16752.773578                     54587.122190   \n",
       "min                              5133.939665                      2495.117796   \n",
       "25%                             29406.119259                      4646.719025   \n",
       "50%                             36977.627400                      5963.361626   \n",
       "75%                             48499.978783                      8936.064728   \n",
       "max                            114025.122924                    938882.663856   \n",
       "\n",
       "       3G_mobile_accesses (per 100000)  4G_mobile_accesses (per 100000)  \n",
       "count                     12216.000000                     12216.000000  \n",
       "mean                      22046.882124                     90420.909089  \n",
       "std                       38268.224098                     28140.232491  \n",
       "min                        3489.217601                     37405.472223  \n",
       "25%                        8408.664741                     74564.562792  \n",
       "50%                        9603.515869                     81015.153567  \n",
       "75%                       13542.882147                     95730.202099  \n",
       "max                      462844.905752                    333226.312785  "
      ]
     },
     "execution_count": 10,
     "metadata": {},
     "output_type": "execute_result"
    }
   ],
   "source": [
    "telecom_df = df[[\n",
    "    'cable_tv_accesses',\n",
    "    'fixed_bandwidth_accesses',\n",
    "    'fixed_telephony_accesses',\n",
    "    '2G_mobile_accesses',\n",
    "    '3G_mobile_accesses',\n",
    "    '4G_mobile_accesses'\n",
    "]].div(df['population'], axis=0)*100000\n",
    "\n",
    "telecom_df.rename(\n",
    "    columns={col_name: (col_name + ' (per 100000)') for col_name in telecom_df.columns},\n",
    "    inplace=True\n",
    ")\n",
    "\n",
    "telecom_df.describe()"
   ]
  },
  {
   "cell_type": "markdown",
   "id": "226c088a",
   "metadata": {},
   "source": [
    "##### Social Withdrawal"
   ]
  },
  {
   "cell_type": "code",
   "execution_count": 11,
   "id": "ef03ca5a",
   "metadata": {},
   "outputs": [
    {
     "data": {
      "text/html": [
       "<div>\n",
       "<style scoped>\n",
       "    .dataframe tbody tr th:only-of-type {\n",
       "        vertical-align: middle;\n",
       "    }\n",
       "\n",
       "    .dataframe tbody tr th {\n",
       "        vertical-align: top;\n",
       "    }\n",
       "\n",
       "    .dataframe thead th {\n",
       "        text-align: right;\n",
       "    }\n",
       "</style>\n",
       "<table border=\"1\" class=\"dataframe\">\n",
       "  <thead>\n",
       "    <tr style=\"text-align: right;\">\n",
       "      <th></th>\n",
       "      <th>cable_tv_accesses (per 100000)</th>\n",
       "      <th>fixed_bandwidth_accesses (per 100000)</th>\n",
       "      <th>fixed_telephony_accesses (per 100000)</th>\n",
       "      <th>2G_mobile_accesses (per 100000)</th>\n",
       "      <th>3G_mobile_accesses (per 100000)</th>\n",
       "      <th>4G_mobile_accesses (per 100000)</th>\n",
       "    </tr>\n",
       "  </thead>\n",
       "  <tbody>\n",
       "    <tr>\n",
       "      <th>count</th>\n",
       "      <td>12216.000000</td>\n",
       "      <td>12216.000000</td>\n",
       "      <td>12216.000000</td>\n",
       "      <td>12216.000000</td>\n",
       "      <td>12216.000000</td>\n",
       "      <td>12216.000000</td>\n",
       "    </tr>\n",
       "    <tr>\n",
       "      <th>mean</th>\n",
       "      <td>10951.707379</td>\n",
       "      <td>22432.067312</td>\n",
       "      <td>39083.566663</td>\n",
       "      <td>14918.084227</td>\n",
       "      <td>22046.882124</td>\n",
       "      <td>90420.909089</td>\n",
       "    </tr>\n",
       "    <tr>\n",
       "      <th>std</th>\n",
       "      <td>5814.543110</td>\n",
       "      <td>8201.739808</td>\n",
       "      <td>16752.773578</td>\n",
       "      <td>54587.122190</td>\n",
       "      <td>38268.224098</td>\n",
       "      <td>28140.232491</td>\n",
       "    </tr>\n",
       "    <tr>\n",
       "      <th>min</th>\n",
       "      <td>834.173703</td>\n",
       "      <td>3618.298047</td>\n",
       "      <td>5133.939665</td>\n",
       "      <td>2495.117796</td>\n",
       "      <td>3489.217601</td>\n",
       "      <td>37405.472223</td>\n",
       "    </tr>\n",
       "    <tr>\n",
       "      <th>25%</th>\n",
       "      <td>6420.159501</td>\n",
       "      <td>16484.127453</td>\n",
       "      <td>29406.119259</td>\n",
       "      <td>4646.719025</td>\n",
       "      <td>8408.664741</td>\n",
       "      <td>74564.562792</td>\n",
       "    </tr>\n",
       "    <tr>\n",
       "      <th>50%</th>\n",
       "      <td>10775.305433</td>\n",
       "      <td>22420.759988</td>\n",
       "      <td>36977.627400</td>\n",
       "      <td>5963.361626</td>\n",
       "      <td>9603.515869</td>\n",
       "      <td>81015.153567</td>\n",
       "    </tr>\n",
       "    <tr>\n",
       "      <th>75%</th>\n",
       "      <td>15086.133553</td>\n",
       "      <td>28874.524392</td>\n",
       "      <td>48499.978783</td>\n",
       "      <td>8936.064728</td>\n",
       "      <td>13542.882147</td>\n",
       "      <td>95730.202099</td>\n",
       "    </tr>\n",
       "    <tr>\n",
       "      <th>max</th>\n",
       "      <td>28899.174745</td>\n",
       "      <td>42785.836843</td>\n",
       "      <td>114025.122924</td>\n",
       "      <td>938882.663856</td>\n",
       "      <td>462844.905752</td>\n",
       "      <td>333226.312785</td>\n",
       "    </tr>\n",
       "  </tbody>\n",
       "</table>\n",
       "</div>"
      ],
      "text/plain": [
       "       cable_tv_accesses (per 100000)  fixed_bandwidth_accesses (per 100000)  \\\n",
       "count                    12216.000000                           12216.000000   \n",
       "mean                     10951.707379                           22432.067312   \n",
       "std                       5814.543110                            8201.739808   \n",
       "min                        834.173703                            3618.298047   \n",
       "25%                       6420.159501                           16484.127453   \n",
       "50%                      10775.305433                           22420.759988   \n",
       "75%                      15086.133553                           28874.524392   \n",
       "max                      28899.174745                           42785.836843   \n",
       "\n",
       "       fixed_telephony_accesses (per 100000)  2G_mobile_accesses (per 100000)  \\\n",
       "count                           12216.000000                     12216.000000   \n",
       "mean                            39083.566663                     14918.084227   \n",
       "std                             16752.773578                     54587.122190   \n",
       "min                              5133.939665                      2495.117796   \n",
       "25%                             29406.119259                      4646.719025   \n",
       "50%                             36977.627400                      5963.361626   \n",
       "75%                             48499.978783                      8936.064728   \n",
       "max                            114025.122924                    938882.663856   \n",
       "\n",
       "       3G_mobile_accesses (per 100000)  4G_mobile_accesses (per 100000)  \n",
       "count                     12216.000000                     12216.000000  \n",
       "mean                      22046.882124                     90420.909089  \n",
       "std                       38268.224098                     28140.232491  \n",
       "min                        3489.217601                     37405.472223  \n",
       "25%                        8408.664741                     74564.562792  \n",
       "50%                        9603.515869                     81015.153567  \n",
       "75%                       13542.882147                     95730.202099  \n",
       "max                      462844.905752                    333226.312785  "
      ]
     },
     "execution_count": 11,
     "metadata": {},
     "output_type": "execute_result"
    }
   ],
   "source": [
    "withdrawal_df = df[[\n",
    "    'withdrawal'\n",
    "]].div(df['population'], axis=0)\n",
    "\n",
    "telecom_df.describe()"
   ]
  },
  {
   "cell_type": "markdown",
   "id": "cce76db4",
   "metadata": {},
   "source": [
    "### Visualizations and Analyses"
   ]
  },
  {
   "cell_type": "markdown",
   "id": "4999370b",
   "metadata": {},
   "source": [
    "#### Social Isolation Effect on the Covid-19 Pandemic"
   ]
  },
  {
   "cell_type": "code",
   "execution_count": 12,
   "id": "cb68502f",
   "metadata": {},
   "outputs": [
    {
     "data": {
      "image/png": "[encoded data removed]",
      "text/plain": [
       "<Figure size 864x432 with 2 Axes>"
      ]
     },
     "metadata": {
      "needs_background": "light"
     },
     "output_type": "display_data"
    }
   ],
   "source": [
    "fig, (ax1, ax2) = plt.subplots(1,2,figsize=(12,6))\n",
    "\n",
    "new_cases_pc = df['confirmed_day'].div(df['population'])\n",
    "deaths = df['deaths_day'].div(df['population'])\n",
    "withdrawal = df['withdrawal']\n",
    "\n",
    "ax1.scatter(withdrawal*100, new_cases_pc*100000, alpha=0.2)\n",
    "ax1.set_xlabel('Social Isolation Index (%)', labelpad=10)\n",
    "ax1.set_ylabel('Number per 100000 population', labelpad=10)\n",
    "ax1.set_title('New Cases', pad=10)\n",
    "ax1.grid(alpha=0.4)\n",
    "\n",
    "ax2.scatter(withdrawal*100, deaths*100000, alpha=0.2)\n",
    "ax2.set_xlabel('Social Isolation Index (%)', labelpad=10)\n",
    "ax2.set_title('Deaths', pad=10)\n",
    "ax2.grid(alpha=0.4)\n",
    "\n",
    "fig.suptitle('Effect of Social Isolation on Covid-19 Pandemic in Brazil')\n",
    "plt.tight_layout()\n",
    "plt.show()"
   ]
  },
  {
   "cell_type": "markdown",
   "id": "51562a0f",
   "metadata": {},
   "source": [
    "In this study, we use the social isolation index as a proxy for how the population is respecting social distance, and as a result of governmental policies. We can see that for social isolation ratings higher than 40%, both the number of new daily cases and the number of deaths are inversely correlated with isolation. This shows that social distance is indeed positive for containing the spread of the virus.\n",
    "\n",
    "However, if we look at the death and new cases rates at the lower end of the isolation index, we notice a positive correlation. This may be due to the fact that when the number of cases is low, people start to go out and the government loosens restrictions, leading to an increase in the number of cases."
   ]
  },
  {
   "cell_type": "markdown",
   "id": "00b7b91e",
   "metadata": {},
   "source": [
    "### Regressions"
   ]
  },
  {
   "cell_type": "markdown",
   "id": "ebf82a6f",
   "metadata": {},
   "source": [
    "#### Removing Serial Autocorrelation from Withdrawal"
   ]
  },
  {
   "cell_type": "markdown",
   "id": "b3b048c9",
   "metadata": {},
   "source": [
    "We can verify that the social withdrawal index is serially autocorrelated. Let's visualize this autocorrelation for the city of Salvador."
   ]
  },
  {
   "cell_type": "code",
   "execution_count": 13,
   "id": "ffbc0a58",
   "metadata": {},
   "outputs": [
    {
     "data": {
      "image/png": "[encoded data removed]",
      "text/plain": [
       "<Figure size 432x288 with 1 Axes>"
      ]
     },
     "metadata": {
      "needs_background": "light"
     },
     "output_type": "display_data"
    }
   ],
   "source": [
    "from statsmodels.graphics.tsaplots import plot_acf\n",
    "from statsmodels.graphics.tsaplots import plot_pacf\n",
    "\n",
    "plot_acf(df[df['city_name'] == 'SALVADOR']['withdrawal_lagged_smooth'], lags=40)\n",
    "plt.show()"
   ]
  },
  {
   "cell_type": "markdown",
   "id": "512b5fd4",
   "metadata": {},
   "source": [
    "We can correct this issue by using the first difference of the social withdrawal. Let's apply this to our data and visualize autocorrelation."
   ]
  },
  {
   "cell_type": "code",
   "execution_count": 14,
   "id": "d2d8e2f4",
   "metadata": {},
   "outputs": [],
   "source": [
    "df['withdrawal_diff'] = df.groupby(['city_code'])['withdrawal_lagged_smooth'].diff().values"
   ]
  },
  {
   "cell_type": "code",
   "execution_count": 15,
   "id": "8c94866a",
   "metadata": {},
   "outputs": [],
   "source": [
    "# drop NaN values from dataset\n",
    "df.dropna(inplace=True)"
   ]
  },
  {
   "cell_type": "code",
   "execution_count": 16,
   "id": "e5727406",
   "metadata": {},
   "outputs": [
    {
     "data": {
      "image/png": "[encoded data removed]",
      "text/plain": [
       "<Figure size 432x288 with 1 Axes>"
      ]
     },
     "metadata": {
      "needs_background": "light"
     },
     "output_type": "display_data"
    }
   ],
   "source": [
    "plot_acf(df[df['city_name'] == 'SALVADOR']['withdrawal_diff'], lags=40)\n",
    "plt.show()"
   ]
  },
  {
   "cell_type": "markdown",
   "id": "a142e188",
   "metadata": {},
   "source": [
    "We can see that this technique significantly reduced autocorrelation. "
   ]
  },
  {
   "cell_type": "markdown",
   "id": "e3118e10",
   "metadata": {},
   "source": [
    "#### Panel OLS - Deaths per capita x Social Withdrawal"
   ]
  },
  {
   "cell_type": "markdown",
   "id": "f406dd0b",
   "metadata": {},
   "source": [
    "Let's start by comparing how the social isolation index affects on the number of deaths per capita by Covid-19. Initially, we're going to apply a Panel OLS with municipality time constant effects and time varying effects. In this case, the municipality time-constant effects would account for how each municipality dealed with the pandemics (specific measures by the city council and cultural particularities of each city). The time effects account for evolutions in the treatment of Covid-19, such as early detection of the desease and improved medical care."
   ]
  },
  {
   "cell_type": "code",
   "execution_count": 60,
   "id": "7216ba6b",
   "metadata": {},
   "outputs": [],
   "source": [
    "y = df.loc[:,['city_code', 'date']]\n",
    "y['deaths_day_pc'] = df['deaths_day_smooth'].div(df['population'])\n",
    "y.set_index(['city_code', 'date'], inplace=True)"
   ]
  },
  {
   "cell_type": "code",
   "execution_count": 61,
   "id": "9841af14",
   "metadata": {},
   "outputs": [],
   "source": [
    "X = sm.tools.tools.add_constant(df[['city_code', 'date', 'withdrawal_diff']])\n",
    "X.set_index(['city_code', 'date'], inplace=True)"
   ]
  },
  {
   "cell_type": "code",
   "execution_count": 62,
   "id": "4decc02e",
   "metadata": {},
   "outputs": [
    {
     "name": "stdout",
     "output_type": "stream",
     "text": [
      "                          PanelOLS Estimation Summary                           \n",
      "================================================================================\n",
      "Dep. Variable:          deaths_day_pc   R-squared:                        0.0006\n",
      "Estimator:                   PanelOLS   R-squared (Between):             -0.0418\n",
      "No. Observations:               12119   R-squared (Within):              -0.0022\n",
      "Date:                Mon, May 31 2021   R-squared (Overall):             -0.0017\n",
      "Time:                        15:46:09   Log-likelihood                  1.39e+05\n",
      "Cov. Estimator:             Clustered                                           \n",
      "                                        F-statistic:                      7.3149\n",
      "Entities:                          97   P-value                           0.0068\n",
      "Avg Obs:                       124.94   Distribution:                 F(1,11699)\n",
      "Min Obs:                       34.000                                           \n",
      "Max Obs:                       264.00   F-statistic (robust):             1.2829\n",
      "                                        P-value                           0.2574\n",
      "Time periods:                     323   Distribution:                 F(1,11699)\n",
      "Avg Obs:                       37.520                                           \n",
      "Min Obs:                       1.0000                                           \n",
      "Max Obs:                       97.000                                           \n",
      "                                                                                \n",
      "                                Parameter Estimates                                \n",
      "===================================================================================\n",
      "                 Parameter  Std. Err.     T-stat    P-value    Lower CI    Upper CI\n",
      "-----------------------------------------------------------------------------------\n",
      "const            4.159e-06  2.316e-08     179.54     0.0000   4.113e-06   4.204e-06\n",
      "withdrawal_diff -8.086e-06  7.139e-06    -1.1327     0.2574  -2.208e-05   5.907e-06\n",
      "===================================================================================\n",
      "\n",
      "F-test for Poolability: 24.201\n",
      "P-value: 0.0000\n",
      "Distribution: F(418,11699)\n",
      "\n",
      "Included effects: Entity, Time\n"
     ]
    }
   ],
   "source": [
    "model = PanelOLS(y, X, entity_effects=True, time_effects=True)\n",
    "res = model.fit(cov_type='clustered')\n",
    "print(res)"
   ]
  },
  {
   "cell_type": "markdown",
   "id": "79fe3e09",
   "metadata": {},
   "source": [
    "Here, we can see that the withdrawal has an inversely correlated effect with the number of deaths, which is not statistically significant.\n",
    "\n",
    "Now, instead of using municipality time-constant effects in our model, we will use state effects. The reasoning for this change is that, in Brazil, Covid containment measures are defined by State governments, and therefore all municipalities are subject to state regulations."
   ]
  },
  {
   "cell_type": "code",
   "execution_count": 54,
   "id": "25475b0f",
   "metadata": {},
   "outputs": [
    {
     "name": "stdout",
     "output_type": "stream",
     "text": [
      "                          PanelOLS Estimation Summary                           \n",
      "================================================================================\n",
      "Dep. Variable:       confirmed_day_pc   R-squared:                        0.0210\n",
      "Estimator:                   PanelOLS   R-squared (Between):              0.1328\n",
      "No. Observations:               12119   R-squared (Within):              -0.0022\n",
      "Date:                Mon, May 31 2021   R-squared (Overall):              0.0168\n",
      "Time:                        15:44:52   Log-likelihood                 9.601e+04\n",
      "Cov. Estimator:             Clustered                                           \n",
      "                                        F-statistic:                      126.53\n",
      "Entities:                          97   P-value                           0.0000\n",
      "Avg Obs:                       124.94   Distribution:                 F(2,11794)\n",
      "Min Obs:                       34.000                                           \n",
      "Max Obs:                       264.00   F-statistic (robust):             80.694\n",
      "                                        P-value                           0.0000\n",
      "Time periods:                     323   Distribution:                 F(2,11794)\n",
      "Avg Obs:                       37.520                                           \n",
      "Min Obs:                       1.0000                                           \n",
      "Max Obs:                       97.000                                           \n",
      "                                                                                \n",
      "                                Parameter Estimates                                \n",
      "===================================================================================\n",
      "                 Parameter  Std. Err.     T-stat    P-value    Lower CI    Upper CI\n",
      "-----------------------------------------------------------------------------------\n",
      "const               0.0002  3.077e-06     54.527     0.0000      0.0002      0.0002\n",
      "withdrawal_diff    -0.0001     0.0001    -1.0062     0.3143     -0.0004      0.0001\n",
      "is_SP           -4.142e-05  3.281e-06    -12.625     0.0000  -4.785e-05  -3.499e-05\n",
      "===================================================================================\n",
      "\n",
      "F-test for Poolability: 23.605\n",
      "P-value: 0.0000\n",
      "Distribution: F(322,11794)\n",
      "\n",
      "Included effects: Time\n"
     ]
    }
   ],
   "source": [
    "X = sm.tools.tools.add_constant(df[['city_code', 'date', 'withdrawal_diff', 'is_SP']])\n",
    "X.set_index(['city_code', 'date'], inplace=True)\n",
    "\n",
    "model = PanelOLS(y, X, entity_effects=False, time_effects=True)\n",
    "res = model.fit(cov_type='clustered')\n",
    "print(res)"
   ]
  },
  {
   "cell_type": "markdown",
   "id": "a7ed0b9c",
   "metadata": {},
   "source": [
    "In this case, we can see that the withdrawal variable did not change much, but there is a clear difference between the two states in terms of new cases per capita. As we can see, cities in the state of São Paulo have a statistically significant larger number of cases per capita."
   ]
  },
  {
   "cell_type": "markdown",
   "id": "29b82195",
   "metadata": {},
   "source": [
    "#### Panel OLS - Deaths per capita x (Telecommunications + Social Withdrawal)"
   ]
  },
  {
   "cell_type": "markdown",
   "id": "06f5a101",
   "metadata": {},
   "source": [
    "Now, let's continue the analysis by including telecommunications infrastructure variables into the model."
   ]
  },
  {
   "cell_type": "code",
   "execution_count": 63,
   "id": "63f49bb4",
   "metadata": {},
   "outputs": [
    {
     "name": "stdout",
     "output_type": "stream",
     "text": [
      "                          PanelOLS Estimation Summary                           \n",
      "================================================================================\n",
      "Dep. Variable:          deaths_day_pc   R-squared:                        0.0036\n",
      "Estimator:                   PanelOLS   R-squared (Between):              0.0164\n",
      "No. Observations:               12119   R-squared (Within):              -0.0111\n",
      "Date:                Mon, May 31 2021   R-squared (Overall):              0.0028\n",
      "Time:                        15:46:45   Log-likelihood                 1.391e+05\n",
      "Cov. Estimator:             Clustered                                           \n",
      "                                        F-statistic:                      6.0640\n",
      "Entities:                          97   P-value                           0.0000\n",
      "Avg Obs:                       124.94   Distribution:                 F(7,11693)\n",
      "Min Obs:                       34.000                                           \n",
      "Max Obs:                       264.00   F-statistic (robust):             4.3764\n",
      "                                        P-value                           0.0001\n",
      "Time periods:                     323   Distribution:                 F(7,11693)\n",
      "Avg Obs:                       37.520                                           \n",
      "Min Obs:                       1.0000                                           \n",
      "Max Obs:                       97.000                                           \n",
      "                                                                                \n",
      "                                Parameter Estimates                                \n",
      "===================================================================================\n",
      "                 Parameter  Std. Err.     T-stat    P-value    Lower CI    Upper CI\n",
      "-----------------------------------------------------------------------------------\n",
      "const            2.128e-06  1.302e-06     1.6343     0.1022  -4.244e-07   4.681e-06\n",
      "withdrawal_diff -7.539e-06  7.165e-06    -1.0521     0.2928  -2.158e-05   6.506e-06\n",
      "fixed_bandwidth  3.526e-06  3.776e-06     0.9336     0.3505  -3.876e-06   1.093e-05\n",
      "cable_tv        -9.162e-06   3.67e-06    -2.4966     0.0126  -1.636e-05  -1.969e-06\n",
      "4G_mobile        8.601e-07  4.518e-07     1.9037     0.0570  -2.549e-08   1.746e-06\n",
      "3G_mobile        2.953e-07   5.61e-07     0.5263     0.5987  -8.043e-07   1.395e-06\n",
      "2G_mobile        1.025e-07  3.124e-07     0.3282     0.7428  -5.098e-07   7.149e-07\n",
      "fixed_telephony  3.545e-06  1.053e-06     3.3675     0.0008   1.482e-06   5.609e-06\n",
      "===================================================================================\n",
      "\n",
      "F-test for Poolability: 22.720\n",
      "P-value: 0.0000\n",
      "Distribution: F(418,11693)\n",
      "\n",
      "Included effects: Entity, Time\n"
     ]
    }
   ],
   "source": [
    "X = sm.tools.tools.add_constant(df[['city_code', 'date', 'withdrawal_diff']])\n",
    "\n",
    "X['fixed_bandwidth'] = df['fixed_bandwidth_accesses'].div(df['population'])\n",
    "X['cable_tv'] = df['cable_tv_accesses'].div(df['population'])\n",
    "X['4G_mobile'] = df['4G_mobile_accesses'].div(df['population'])\n",
    "X['3G_mobile'] = df['3G_mobile_accesses'].div(df['population'])\n",
    "X['2G_mobile'] = df['2G_mobile_accesses'].div(df['population'])\n",
    "X['fixed_telephony'] = df['fixed_telephony_accesses'].div(df['population'])\n",
    "\n",
    "X.set_index(['city_code', 'date'], inplace=True)\n",
    "\n",
    "model = PanelOLS(y, X, entity_effects=True, time_effects=True)\n",
    "res = model.fit(cov_type='clustered')\n",
    "print(res)"
   ]
  },
  {
   "cell_type": "markdown",
   "id": "e108f4bc",
   "metadata": {},
   "source": [
    "For this regression, when using state-level entity effects, we get positive correlations for all the telecommunications variables. This can be due to state-level effects not being able to account for differences between municipalities. \n",
    "\n",
    "When using city-level effects, however, we find that only two telecommunications variables are significant on the 5% confidence level - cable television and fixed telephony. The effect of Cable TV is statistically significant and negatively correlated to the number of deaths, which can indicate that having access to cable television contributes to the spread of information and the containment of the virus. On the other hand, a high number of fixed telephony accesses per capita indicates a higher number of Covid-19 deaths per capita. This is probably due to the fact that cities without modern telecom infrastructure tend to use this service more, and since fixed telephony is not a really an effective mechanism for spreading information nowadays, this can damage containment measures."
   ]
  }
 ],
 "metadata": {
  "kernelspec": {
   "display_name": "Python [conda env:study] *",
   "language": "python",
   "name": "conda-env-study-py"
  },
  "language_info": {
   "codemirror_mode": {
    "name": "ipython",
    "version": 3
   },
   "file_extension": ".py",
   "mimetype": "text/x-python",
   "name": "python",
   "nbconvert_exporter": "python",
   "pygments_lexer": "ipython3",
   "version": "3.7.9"
  }
 },
 "nbformat": 4,
 "nbformat_minor": 5
}
