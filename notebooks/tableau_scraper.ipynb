{
 "cells": [
  {
   "cell_type": "code",
   "execution_count": 2,
   "metadata": {},
   "outputs": [],
   "source": [
    "import numpy as np\n",
    "import pandas as pd\n",
    "from tableauscraper import TableauScraper as TS"
   ]
  },
  {
   "cell_type": "code",
   "execution_count": 3,
   "metadata": {},
   "outputs": [
    {
     "name": "stdout",
     "output_type": "stream",
     "text": [
      "Currently: Tocantins, Progress: 1/27\n",
      "Currently: Sergipe, Progress: 2/27\n",
      "Currently: São Paulo, Progress: 3/27\n",
      "Currently: Santa Catarina, Progress: 4/27\n",
      "Currently: Roraima, Progress: 5/27\n",
      "Currently: Rondônia, Progress: 6/27\n",
      "Currently: Rio Grande do Sul, Progress: 7/27\n",
      "Currently: Rio Grande do Norte, Progress: 8/27\n",
      "Currently: Rio de Janeiro, Progress: 9/27\n",
      "Currently: Piauí, Progress: 10/27\n",
      "Currently: Pernambuco, Progress: 11/27\n",
      "Currently: Paraná, Progress: 12/27\n",
      "Currently: Paraíba, Progress: 13/27\n",
      "Currently: Pará, Progress: 14/27\n",
      "Currently: Minas Gerais, Progress: 15/27\n",
      "Currently: Mato Grosso do Sul, Progress: 16/27\n",
      "Currently: Mato Grosso, Progress: 17/27\n",
      "Currently: Maranhão, Progress: 18/27\n",
      "Currently: Goiás, Progress: 19/27\n",
      "Currently: Espírito Santo, Progress: 20/27\n",
      "Currently: Distrito Federal, Progress: 21/27\n",
      "Currently: Ceará, Progress: 22/27\n",
      "Currently: Bahia, Progress: 23/27\n",
      "Currently: Amazonas, Progress: 24/27\n",
      "Currently: Amapá, Progress: 25/27\n",
      "Currently: Alagoas, Progress: 26/27\n",
      "Currently: Acre, Progress: 27/27\n"
     ]
    }
   ],
   "source": [
    "# Isolation index data URL\n",
    "url = \"https://public.tableau.com/views/MKTScoredeisolamentosocial/VisoGeral\"\n",
    "\n",
    "# Load URL and tableau workbook\n",
    "ts = TS()\n",
    "ts.loads(url)\n",
    "workbook = ts.getWorkbook()\n",
    "\n",
    "# Get main worksheet\n",
    "ws = ts.getWorksheet('map_state (2)')\n",
    "selects = ws.getSelectableItems()\n",
    "\n",
    "# Get list with all states\n",
    "states = selects[6]['values']\n",
    "\n",
    "# Get time series data from all states\n",
    "df = pd.DataFrame()\n",
    "for idx, state in enumerate(states):\n",
    "    print(f'Currently: {state}, Progress: {idx+1}/{len(states)}')\n",
    "    dashboard = ws.select(\"ATTR(State Name)\", state)\n",
    "    state_df = (dashboard.getWorksheet('time_line_BR')).data\n",
    "    df = pd.concat([df, state_df], axis=0, ignore_index=True)\n",
    "    \n",
    "# Save df in a csv\n",
    "df.to_csv('../data/raw_data/withdrawal_states.csv', index=False)"
   ]
  }
 ],
 "metadata": {
  "kernelspec": {
   "display_name": "Python [conda env:study] *",
   "language": "python",
   "name": "conda-env-study-py"
  },
  "language_info": {
   "codemirror_mode": {
    "name": "ipython",
    "version": 3
   },
   "file_extension": ".py",
   "mimetype": "text/x-python",
   "name": "python",
   "nbconvert_exporter": "python",
   "pygments_lexer": "ipython3",
   "version": "3.7.9"
  }
 },
 "nbformat": 4,
 "nbformat_minor": 4
}
